{
  "cells": [
    {
      "cell_type": "markdown",
      "metadata": {
        "id": "E1Hz3Y8QoZ-r"
      },
      "source": [
        "# MATHENG 3L - Laboratory Activity 1\n",
        "### Topic: Probability Distributions and Random Variables"
      ],
      "id": "E1Hz3Y8QoZ-r"
    },
    {
      "cell_type": "markdown",
      "metadata": {
        "id": "iRuAiPWuoZ-t"
      },
      "source": [
        "## Learning Objectives\n",
        "By the end of this lab, you will be able to:\n",
        "1. Generate random variables from common discrete and continuous probability distributions using Python.\n",
        "2. Compute theoretical and empirical probabilities for given random variables.\n",
        "3. Visualize PMFs, PDFs, and (where appropriate) quick histograms.\n",
        "4. Compare theoretical expectations (mean, variance) with simulated estimates.\n"
      ],
      "id": "iRuAiPWuoZ-t"
    },
    {
      "cell_type": "markdown",
      "metadata": {
        "id": "ViWCD01poZ-u"
      },
      "source": [
        "## Pre-Lab (review before starting)\n",
        "- Review definitions: random variable, PMF, PDF, and CDF.\n",
        "- Recall formulas for mean and variance for: Binomial, Poisson, Hypergeometric, Negative Binomial, Normal, Exponential, Uniform.\n"
      ],
      "id": "ViWCD01poZ-u"
    },
    {
      "cell_type": "code",
      "execution_count": null,
      "metadata": {
        "id": "EfTy90PcoZ-u"
      },
      "outputs": [],
      "source": [
        "# Setup\n",
        "import numpy as np\n",
        "import matplotlib.pyplot as plt\n",
        "from scipy import stats\n",
        "\n",
        "np.random.seed(2025)  # Reproducibility\n",
        "print('Libraries loaded.')\n"
      ],
      "id": "EfTy90PcoZ-u"
    },
    {
      "cell_type": "markdown",
      "metadata": {
        "id": "FpXwnOhIoZ-v"
      },
      "source": [
        "---\n",
        "## 1) Discrete Distributions\n",
        "### 1.1 Binomial Distribution\n",
        "\n",
        "A discrete probability distribution that models the number of successes in \\(n\\) independent Bernoulli trials, each with probability \\(p\\) of success.  \n",
        "\n",
        "PMF:\n",
        "\n",
        "![image.png](data:image/png;base64,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)\n",
        "\n",
        "Mean = \\(np\\)  \n",
        "Variance = \\(np(1-p)\\)"
      ],
      "id": "FpXwnOhIoZ-v"
    },
    {
      "cell_type": "markdown",
      "source": [
        "---\n",
        "**Demonstration**\n",
        "\n",
        "Parameters: n = 10, p = 0.4. Compute $P(X=4)$, theoretical mean/variance, verify by simulation, and plot the PMF."
      ],
      "metadata": {
        "id": "EQW9DTY2o4co"
      },
      "id": "EQW9DTY2o4co"
    },
    {
      "cell_type": "code",
      "execution_count": null,
      "metadata": {
        "id": "JRMrpCpOoZ-v"
      },
      "outputs": [],
      "source": [
        "n, p = 10, 0.4\n",
        "theory_p4 = stats.binom.pmf(4, n, p)\n",
        "theory_mean, theory_var = stats.binom.stats(n, p, moments='mv')\n",
        "\n",
        "sim = stats.binom.rvs(n, p, size=100_000)\n",
        "emp_p4 = np.mean(sim == 4)\n",
        "emp_mean, emp_var = np.mean(sim), np.var(sim, ddof=0)\n",
        "\n",
        "print('P(X=4): theory =', theory_p4, ' empirical =', emp_p4)\n",
        "print('Mean: theory =', theory_mean, ' empirical =', emp_mean)\n",
        "print('Variance: theory =', theory_var, ' empirical =', emp_var)\n",
        "\n",
        "x_vals = np.arange(0, n+1)\n",
        "markerline, stemlines, baseline = plt.stem(x_vals, stats.binom.pmf(x_vals, n, p), use_line_collection=True)\n",
        "plt.title('Binomial PMF (n=10, p=0.4)')\n",
        "plt.xlabel('x'); plt.ylabel('P(X=x)')\n",
        "plt.show()\n"
      ],
      "id": "JRMrpCpOoZ-v"
    },
    {
      "cell_type": "markdown",
      "metadata": {
        "id": "2LAHXwf_oZ-w"
      },
      "source": [
        "**Task 1:**\n",
        "- Change parameters to n = 8, p = 0.6.\n",
        "- Compute P(X=5) theoretical vs. simulation.\n",
        "- Compare theoretical mean/variance with simulated values.\n",
        "- Plot the PMF."
      ],
      "id": "2LAHXwf_oZ-w"
    },
    {
      "cell_type": "code",
      "execution_count": null,
      "metadata": {
        "tags": [
          "your-turn"
        ],
        "id": "wNQ_YgMZoZ-w"
      },
      "outputs": [],
      "source": [
        "# Put your code here\n"
      ],
      "id": "wNQ_YgMZoZ-w"
    },
    {
      "cell_type": "markdown",
      "source": [
        "### 1.2 Poisson Distribution\n",
        "A discrete distribution describing the number of events occurring in a fixed interval of time or space, assuming events occur independently and at a constant average rate λ.\n",
        "\n",
        "PMF:\n",
        "\n",
        "![image.png](data:image/png;base64,iVBORw0KGgoAAAANSUhEUgAAAOQAAABZCAIAAAChYR9xAAALLklEQVR4Ae1dv2vjSBu+f+AtUrhTqSKwhitiuOIzKWK4Zs0WF0ixhoUYUgSxxeItDnPFIlKZFEFcEbNFMFscOHDgLQJK5TQL3iL4ioBSBHywhYoUKgIqXOiYkWzrx8jSWLJk+XtN2LWk+fHOo0cz77zzjPyThR9EoCAI/FQQO9FMRMBCsiIJCoMAkrUwtwoNRbIiBwqDAJK1MLcKDUWyIgcKgwCStTC3Cg1FsiIHCoMAkrUwtwoNRbIiBwqDAJK1MLcKDUWyIgcKgwCStTC3Cg1FsiIHCoMAkrUwtwoNRbIiBwqDAJK1MLcKDUWyIgcKgwCStTC3KkVD9RtZOq5XdsvtuxRLZRZlDD5UyvvN7neDeZnrJJKVC65tSfxi6FeHAIf9lwxaZPSPAF7JWuKqkKyJISxmAaOPJfhFmWRivHndABDl+6SVIVmTIljM/FpnD8RP44yMn6pNgNLHUcLqkKwJAdy47JPrtvRekj8PJ2a4bXqvDtC8oQleNPVC6T2k4FOG12cNP5Sg1BpOlySJvoRkjcaoWClMQxuclAEA9jqhbuLXpu2wmg+K9LHfPz8sH6zZJbhrEbYmm88hWYtFxXjWToetEgCUWt/Y6W2HdfS907rULGvUFgDe9pd0xOxSuM4avUMAOFG5MvkSI1l9gGzJIRl2AUofhqz2EIcVBOHwbGzY47Jp8jFVVzvvJSn0Txn5ggzGsLVXaxyJAI0k8QckK+tubsG5b07fynATbYf1ctg9LcNOrfu05tYaqiSKzRvDepDLAI1rvufCbRyS1Y3GNn0fyyJxXJ1ZlLtlM4fVskgXW7mYWJauXg3XMsN6HjQFqF7YzrMmvwI4Wt3fQLK6b+NWfdfO6DQr4Iy6IqwkonR4bVpPSuOMNRmbmtpdX/ldkt63lVvN5J3Le5hKsNUvawC17o8VcUayrghcAbLRYTewTDVR9qHsUNNUT4XyidJ+21J9XqZl6V+lyg6Iv7a7t2PtfiC/EYRTlWcIJxUJJ6qnw/5BQma0L18FPyTrKqgVJM9E+YV4AvUr3W2waRjuPtJ89hzaKbWLKgBUz7UFO+9lEZpck3lfRXbJpqHrz4tS3YZFfkeyRkJU2ARTrUPJCgddD1ujGmTeSgKQ1fyxa9zXzitrD29FGYZkjUKooNenmnIAwpt6hfStXG6i3j0gecp/DHVdn9yrg78U6VextNdezxSMA18kKwdYhUlqap19gH1Fm+q914R5HG4iDWwBlKrvnEiq/HkwfDBWHLlThQzJmiqcm1CYMZL3AYSmPbWhiicehd6TQjtjPvc0m3YjWbPBOatajGHrZwCh0Z+Hh176DTqqyw/xbLDJmpV6MJ5NTiokKxdcm52YrBWRSbzy6LHTXnqNKwikcj6GCMbUOr+1hrl6AxmS1dSUA1G6zbW5npuY0sGLKu3Ve15+pFQ0TzEOUwWysOn7EMUTkbUwll59Kenh+FMZoOzWSpuPA+lnsXHNFVRgFZ3sHCdZf4wGfw/C/ogb7gp2eAybasr+fNnNc8Wa6qNgmfcOLsaD6qtuNB/gvMWs6Yga0JWpaKP3T0glj0p1x9+fhSRd1+nJBXE1ZwubvlqoroosVgV47EtoH071wfsKgFg7lshWLUEQX7cHT/n3Mnxk1f+WKruiSKJw5FMSRXF39ieSpxd2KtJXxvM3+ijA6x7jAlmD6zdIIbNCAUAQq+eOiH10VqblzurbrcjfmQCv6+TorDKzrdIJ7z71qzoIUnAdaF1mBcsl0fbwOTu5uux6sDzrhWbhzMQoJ71TfGS16zWviTQRSi3fNgXzqVsnFwT/WH8vl73DCtN+27UKqshGf4gg1JVv8XoFZtEJT770SYMD7fWUOh3Lr0BIvHPDUyYeeBFYhaxECQFs+czgmHaBnk6Ubm6Ms4jirGV7lgeNm6Ywi8J4Lc/w6FYKa6/bCKrSqPey9VLcBmz99xXISqW7gRVnipQTgvZsm6ShECLtif44a9nz5UHzoVMV85+7jD+RObZvhZ3RGhpOn2lEGNfxVEIE+MnqrHCwdtbaUQ/v7gXq+NdD3FW/8bRzIkt9JCi4AbMWap/9CLHa6zefptzICKXf0mIe85P1pknGRJYDZ940qX/gjnrQvlaU4+75dSLYUDpukeE/GIXJHuWAw2o+qsrvUvtyFHSiqYMU98nMvilFr5GbrKEOq6E2yYReqF+5Zbwqcfd4xOGzaVap+TVIhjzQth9OpwnG6KxW/k3uXyuHIki3fntITAAY5/3p8HglBHjJ6riV1fMxCYXYn3/Hg4tmZQegVJN9c/Z/FaKL5NrTaG8eWnGzjt5/NwulzWNqy740+uxw2gJLl8NqqKdVEhifdf+MHSOU2VHebfpGLszd6m+cZHUcVm+EdbdSP5a7d6xtD3R2xSH5mer9t3TrEMB8msWH/yw6OHuSlv4frQKeOazfjcFpVbLdEhsEZoyCKJRjSJxSNpIPoeKm5iSrPSZCcxC2UuVDgo+shnoiCCeqRnbqzKZZvgIzPrQdVihX/ldt3cVwS/jam1pjKFwF+2eFxvOR1XFYPWHUpZU+dipxehpShqmdV8U3PW1qzcfZuNqLpSYkumg/nDsCWZ7bEaonXcasyl1BTmR1m7DF37nI6kRYOYb12DePbPohYmEHameaFVt7sbhDqY6wLofVnHxpkAnk8sgUugGLO5H+Nx6yOg5r6EtpGNbFm2Axlqlmq1mc70RId+5C9mcCzCUB9rPqbBEZf271gwpRnGAxSJDaKQ6yOpIAaKqz/i+GFdGhKwZTSbn0hQgrT7NiWBadxB9hJbvsASS6w3PUEhhvwqGhK56HOdoITLFAIBZZzWeydax3RF34PXmkx99NG7ooQMp8GHaJFA3gXX/iFQyZz5PBqa3DKrfvqF6I4wlZNC/RNzuItggSj4gslLoBxvWhyNKsUJ8+m9dJJ2pZksymsUTclaTg6LwxyGrLOPxzTbuDia6AvhcksKgTLNM9aQtehfl7GaJrTCvF5E8SI65/WURiJyRMIdSOauJei7XVk8a54kh20jIx1XLiKHf1L1RXt5OPXicGWRMiQr3PeEKWhDWlnX1qGoFALNWFhmjMqU9fu1yQO22D1lteHOWuEw4Kf5nmWk1cP1ktug+9sP1NfPSpCofhyMYvIf+Ufjfdb5G9HwGgoqz73YP+mslxBmS1rG8tIYb4mmVecc5R8XU5s7f0rwmYKOWuLX4IvD9rTdb4i82ErBZ5AVjotha/SYU8JnfR+76dIjbDFVcOMX+2hMn10quQsrhPZ0NWy1qyYZDb5s3LsCnS24TIzIQQS34DiK56QHzNZ0KLvNmzIitdT8Wt2F7wN+wo4LAylLt0STJiGW9tzcqQrGtrAxacDgL2EL9cuWsT+niQTo2cpSBZOQHb3uQuh3WJcpcu43EJlNNDDMmaHpbFLmnmsEYod+c/Q5BDa5GsOYC+iVXa43u0cpdwuvpnNr/56scJyepH5P/0OLZyVz1h/QJMJqghWTOBeeMrcTmsEcrdzRaybDzQaGBiBPiVu4mrXKEA7FlXAG3rsvgjrOHK3UelLgjCm8WejiyxQLJmifam1hVbuaue2lLRshz29s91NhHJuk50C1I2h3L3vkNeELHXcf/qUGatRLJmBvUGV8Sr3M2pKUjWnIDHavkRQLLyY4Y5ckIAyZoT8FgtPwJIVn7MMEdOCCBZcwIeq+VHAMnKjxnmyAkBJGtOwGO1/AggWfkxwxw5IYBkzQl4rJYfASQrP2aYIycEkKw5AY/V8iOAZOXHDHPkhACSNSfgsVp+BJCs/JhhjpwQQLLmBDxWy48AkpUfM8yREwL/Adc5mmbeoaoUAAAAAElFTkSuQmCC)\n",
        "\n",
        "Mean = Variance = λ."
      ],
      "metadata": {
        "id": "CRGvi4hbp5V3"
      },
      "id": "CRGvi4hbp5V3"
    },
    {
      "cell_type": "markdown",
      "metadata": {
        "id": "JsDV5v5RoZ-x"
      },
      "source": [
        "**Demonstration:**\n",
        "\n",
        "Parameter: λ = 3. Compute $P(X \\ge 5)$ using the Poisson distribution and verify by simulation; plot the PMF."
      ],
      "id": "JsDV5v5RoZ-x"
    },
    {
      "cell_type": "code",
      "execution_count": null,
      "metadata": {
        "id": "J4uJNAeIoZ-x"
      },
      "outputs": [],
      "source": [
        "lam = 3\n",
        "theory_tail = stats.poisson.sf(4, lam)\n",
        "sim = stats.poisson.rvs(lam, size=100_000)\n",
        "emp_tail = np.mean(sim >= 5)\n",
        "print('P(X >= 5): theory =', theory_tail, ' empirical =', emp_tail)\n",
        "x_vals = np.arange(0, 12)\n",
        "plt.stem(x_vals, stats.poisson.pmf(x_vals, lam), use_line_collection=True)\n",
        "plt.title('Poisson PMF (λ=3)')\n",
        "plt.xlabel('x'); plt.ylabel('P(X=x)'); plt.show()\n"
      ],
      "id": "J4uJNAeIoZ-x"
    },
    {
      "cell_type": "markdown",
      "metadata": {
        "id": "5BlJOTAdoZ-x"
      },
      "source": [
        "**Task 2:**\n",
        "- Set λ = 4.\n",
        "- Compute P(X ≤ 2) theoretical vs. simulation.\n",
        "- Plot the PMF."
      ],
      "id": "5BlJOTAdoZ-x"
    },
    {
      "cell_type": "code",
      "execution_count": null,
      "metadata": {
        "tags": [
          "your-turn"
        ],
        "id": "ffrPzx6EoZ-x"
      },
      "outputs": [],
      "source": [
        "# Put your code here\n"
      ],
      "id": "ffrPzx6EoZ-x"
    },
    {
      "cell_type": "markdown",
      "source": [
        "### 1.3 Hypergeometric Distribution\n",
        "A discrete distribution for the number of successes in \\(N\\) draws **without replacement** from a population of size \\(M\\) containing \\(K\\) successes.  \n",
        "\n",
        "PMF\n",
        "\n",
        "![image.png](data:image/png;base64,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)\n",
        "\n",
        "![image.png](data:image/png;base64,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)"
      ],
      "metadata": {
        "id": "TfCLC1nwqri6"
      },
      "id": "TfCLC1nwqri6"
    },
    {
      "cell_type": "markdown",
      "metadata": {
        "id": "3yZaKtc-oZ-y"
      },
      "source": [
        "**Demonstration**\n",
        "\n",
        "Population size M = 20, defectives K = 8, draws N = 5. Compute $P(X=2)$; verify by simulation; plot PMF."
      ],
      "id": "3yZaKtc-oZ-y"
    },
    {
      "cell_type": "code",
      "execution_count": null,
      "metadata": {
        "id": "fQtG7XhEoZ-y"
      },
      "outputs": [],
      "source": [
        "M, K, N = 20, 8, 5\n",
        "theory_p2 = stats.hypergeom.pmf(2, M, K, N)\n",
        "sim = stats.hypergeom.rvs(M, K, N, size=100_000)\n",
        "emp_p2 = np.mean(sim == 2)\n",
        "print('P(X=2): theory =', theory_p2, ' empirical =', emp_p2)\n",
        "x = np.arange(0, N+1)\n",
        "plt.stem(x, stats.hypergeom.pmf(x, M, K, N), use_line_collection=True)\n",
        "plt.title('Hypergeometric PMF (M=20, K=8, N=5)')\n",
        "plt.xlabel('x'); plt.ylabel('P(X=x)'); plt.show()\n"
      ],
      "id": "fQtG7XhEoZ-y"
    },
    {
      "cell_type": "markdown",
      "metadata": {
        "id": "DGi8IU0QoZ-y"
      },
      "source": [
        "**Task 3:**\n",
        "- Use M = 30, K = 12 defectives, N = 6 draws.\n",
        "- Compute P(X=3) theoretical vs. simulation.\n",
        "- Plot the PMF."
      ],
      "id": "DGi8IU0QoZ-y"
    },
    {
      "cell_type": "code",
      "execution_count": null,
      "metadata": {
        "tags": [
          "your-turn"
        ],
        "id": "0EgBK2Y4oZ-y"
      },
      "outputs": [],
      "source": [
        "# Put your code here\n"
      ],
      "id": "0EgBK2Y4oZ-y"
    },
    {
      "cell_type": "markdown",
      "source": [
        "### 1.4 Negative Binomial Distribution\n",
        "A discrete distribution giving the number of trials \\(X\\) needed to achieve \\(r\\) successes in independent Bernoulli trials with success probability \\(p\\).  \n",
        "\n",
        "![image.png](data:image/png;base64,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)\n",
        "\n",
        "Mean = r/p\n",
        "Variance = r(1-p)/p^2"
      ],
      "metadata": {
        "id": "bj3Yq2orrmhd"
      },
      "id": "bj3Yq2orrmhd"
    },
    {
      "cell_type": "markdown",
      "metadata": {
        "id": "nba95Y1IoZ-y"
      },
      "source": [
        "**Demonstration**\n",
        "\n",
        "Number of trials X needed to get r = 5 successes with p = 0.4. Compute P(X=8); verify by simulation; plot PMF.\n",
        "\n",
        "*_Note:_ SciPy parameterization uses the number of failures (k) before achieving r successes. If X is the total trials, then k = X - r.*"
      ],
      "id": "nba95Y1IoZ-y"
    },
    {
      "cell_type": "code",
      "execution_count": null,
      "metadata": {
        "id": "scMyZz_moZ-y"
      },
      "outputs": [],
      "source": [
        "r, p = 5, 0.4\n",
        "theory_p8 = stats.nbinom.pmf(8 - r, r, p)  # k = 8 - r failures before r successes\n",
        "sim = stats.nbinom.rvs(r, p, size=100_000)\n",
        "emp_p8 = np.mean(sim == (8 - r))\n",
        "print('P(X=8): theory =', theory_p8, ' empirical =', emp_p8)\n",
        "x_total = np.arange(r, r+10)\n",
        "plt.stem(x_total, stats.nbinom.pmf(x_total - r, r, p), use_line_collection=True)\n",
        "plt.title('Negative Binomial PMF (r=5, p=0.4)')\n",
        "plt.xlabel('Number of Trials (X)'); plt.ylabel('P(X=x)'); plt.show()\n"
      ],
      "id": "scMyZz_moZ-y"
    },
    {
      "cell_type": "markdown",
      "metadata": {
        "id": "NFW9guUwoZ-z"
      },
      "source": [
        "**Task 4:**\n",
        "- Set r = 4, p = 0.5.\n",
        "- Compute P(X = 7) theoretical vs. simulation.\n",
        "- Plot PMF.\n"
      ],
      "id": "NFW9guUwoZ-z"
    },
    {
      "cell_type": "code",
      "execution_count": 1,
      "metadata": {
        "tags": [
          "your-turn"
        ],
        "id": "6DOZEeqgoZ-z"
      },
      "outputs": [],
      "source": [
        "# Put your code here\n",
        "\n"
      ],
      "id": "6DOZEeqgoZ-z"
    },
    {
      "cell_type": "markdown",
      "metadata": {
        "id": "Mj25y-2ZoZ-z"
      },
      "source": [
        "---\n",
        "## 2) Continuous Distributions\n",
        "### 2.1 Normal Distribution (Demo)\n",
        "A continuous distribution characterized by its bell-shaped curve, defined by mean μ  and standard deviation σ.  \n",
        "\n",
        "PDF:  \n",
        "![image.png](data:image/png;base64,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)\n",
        "\n",
        "Mean = μ  \n",
        "Variance = σ²"
      ],
      "id": "Mj25y-2ZoZ-z"
    },
    {
      "cell_type": "markdown",
      "source": [
        "**Demonstration**\n",
        "\n",
        "Parameters: μ = 50, σ = 10. Compute $P(45 \\le X \\le 60)$; verify by simulation; plot the PDF."
      ],
      "metadata": {
        "id": "OExohDQ_tYm4"
      },
      "id": "OExohDQ_tYm4"
    },
    {
      "cell_type": "code",
      "execution_count": null,
      "metadata": {
        "id": "ekjgJSl_oZ-z"
      },
      "outputs": [],
      "source": [
        "mu, sigma = 50, 10\n",
        "theory_p = stats.norm.cdf(60, mu, sigma) - stats.norm.cdf(45, mu, sigma)\n",
        "sim = stats.norm.rvs(mu, sigma, size=100_000)\n",
        "emp_p = np.mean((sim >= 45) & (sim <= 60))\n",
        "print('P(45<=X<=60): theory =', theory_p, ' empirical =', emp_p)\n",
        "x_vals = np.linspace(mu - 4*sigma, mu + 4*sigma, 300)\n",
        "plt.plot(x_vals, stats.norm.pdf(x_vals, mu, sigma))\n",
        "plt.title('Normal PDF (μ=50, σ=10)')\n",
        "plt.xlabel('x'); plt.ylabel('f(x)'); plt.show()\n"
      ],
      "id": "ekjgJSl_oZ-z"
    },
    {
      "cell_type": "markdown",
      "metadata": {
        "id": "OasA5-XZoZ-z"
      },
      "source": [
        "**Task 5:**\n",
        "- Set μ = 100, σ = 15.\n",
        "- Compute P(90 ≤ X ≤ 120) theoretical vs. simulation.\n",
        "- Plot the PDF."
      ],
      "id": "OasA5-XZoZ-z"
    },
    {
      "cell_type": "code",
      "execution_count": null,
      "metadata": {
        "tags": [
          "your-turn"
        ],
        "id": "WF7KL9B0oZ-z"
      },
      "outputs": [],
      "source": [
        "# Put your code here\n"
      ],
      "id": "WF7KL9B0oZ-z"
    },
    {
      "cell_type": "markdown",
      "source": [
        "### 2.2 Exponential Distribution\n",
        "A continuous distribution that models the time between events in a Poisson process with rate parameter\n",
        "λ.\n",
        "\n",
        "PDF:\n",
        "\n",
        "![image.png](data:image/png;base64,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)\n",
        "\n",
        "Mean = 1/λ Variance = 1/λ²"
      ],
      "metadata": {
        "id": "uMe1YLszuK5L"
      },
      "id": "uMe1YLszuK5L"
    },
    {
      "cell_type": "markdown",
      "metadata": {
        "id": "UdPbIgncoZ-z"
      },
      "source": [
        "**Demonstration**\n",
        "\n",
        "Parameter: λ = 0.2 (mean = 5). Compute $P(X>8)$; verify by simulation; plot the PDF."
      ],
      "id": "UdPbIgncoZ-z"
    },
    {
      "cell_type": "code",
      "execution_count": null,
      "metadata": {
        "id": "QT41q4WcoZ-z"
      },
      "outputs": [],
      "source": [
        "lam = 0.2\n",
        "theory_p = stats.expon.sf(8, scale=1/lam)\n",
        "sim = stats.expon.rvs(scale=1/lam, size=100_000)\n",
        "emp_p = np.mean(sim > 8)\n",
        "print('P(X>8): theory =', theory_p, ' empirical =', emp_p)\n",
        "x_vals = np.linspace(0, 30, 300)\n",
        "plt.plot(x_vals, stats.expon.pdf(x_vals, scale=1/lam))\n",
        "plt.title('Exponential PDF (λ=0.2)')\n",
        "plt.xlabel('x'); plt.ylabel('f(x)'); plt.show()\n"
      ],
      "id": "QT41q4WcoZ-z"
    },
    {
      "cell_type": "markdown",
      "metadata": {
        "id": "SFiSQ9ZBoZ-0"
      },
      "source": [
        "**Task 6:**\n",
        "- Set λ = 0.5 (mean = 2).\n",
        "- Compute P(X < 3) theoretical vs. simulation.\n",
        "- Plot the PDF."
      ],
      "id": "SFiSQ9ZBoZ-0"
    },
    {
      "cell_type": "code",
      "execution_count": null,
      "metadata": {
        "tags": [
          "your-turn"
        ],
        "id": "JyIMLAxSoZ-0"
      },
      "outputs": [],
      "source": [
        "# Put your code here\n"
      ],
      "id": "JyIMLAxSoZ-0"
    },
    {
      "cell_type": "markdown",
      "source": [
        "### 2.3 Uniform Distribution\n",
        "\n",
        "A continuous distribution where all values in [a, b] are equally likely.\n",
        "\n",
        "PDF\n",
        "\n",
        "![image.png](data:image/png;base64,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)"
      ],
      "metadata": {
        "id": "zF1kN5NPyFrp"
      },
      "id": "zF1kN5NPyFrp"
    },
    {
      "cell_type": "markdown",
      "metadata": {
        "id": "3mfO9jcsoZ-0"
      },
      "source": [
        "**Demonstration**\n",
        "\n",
        "Interval: [2, 10]. Compute $P(4 \\le X \\le 7)$; verify by simulation; plot the PDF."
      ],
      "id": "3mfO9jcsoZ-0"
    },
    {
      "cell_type": "code",
      "execution_count": null,
      "metadata": {
        "id": "bvDRshQvoZ-0"
      },
      "outputs": [],
      "source": [
        "a, b = 2, 10\n",
        "theory_p = stats.uniform.cdf(7, a, b-a) - stats.uniform.cdf(4, a, b-a)\n",
        "sim = stats.uniform.rvs(loc=a, scale=b-a, size=100_000)\n",
        "emp_p = np.mean((sim >= 4) & (sim <= 7))\n",
        "print('P(4<=X<=7): theory =', theory_p, ' empirical =', emp_p)\n",
        "x_vals = np.linspace(a-1, b+1, 300)\n",
        "plt.plot(x_vals, stats.uniform.pdf(x_vals, a, b-a))\n",
        "plt.title('Uniform PDF [2, 10]')\n",
        "plt.xlabel('x'); plt.ylabel('f(x)'); plt.show()\n"
      ],
      "id": "bvDRshQvoZ-0"
    },
    {
      "cell_type": "markdown",
      "metadata": {
        "id": "ZgRFR-v3oZ-0"
      },
      "source": [
        "**Task 7:**\n",
        "- Set interval [5, 15].\n",
        "- Compute P(8 ≤ X ≤ 12) theoretical vs. simulation.\n",
        "- Plot the PDF."
      ],
      "id": "ZgRFR-v3oZ-0"
    },
    {
      "cell_type": "code",
      "execution_count": 1,
      "metadata": {
        "tags": [
          "your-turn"
        ],
        "id": "tmB6kZSJoZ-0"
      },
      "outputs": [],
      "source": [
        "# Put your code here\n"
      ],
      "id": "tmB6kZSJoZ-0"
    },
    {
      "cell_type": "markdown",
      "metadata": {
        "id": "cJ2m4FKAoZ-0"
      },
      "source": [
        "## Guide Questions (Answer concisely)\n",
        "---\n",
        "1. In the **Binomial** demo, when you changed parameters to n=8, p=0.6, how did the PMF's shape shift compared to n=10, p=0.4? Relate this to the mean np and variance np(1-p).\n",
        "\n"
      ],
      "id": "cJ2m4FKAoZ-0"
    },
    {
      "cell_type": "code",
      "source": [
        "# Put your answer here, enclosed in \"#\""
      ],
      "metadata": {
        "id": "gNsG79p_y01Q"
      },
      "id": "gNsG79p_y01Q",
      "execution_count": null,
      "outputs": []
    },
    {
      "cell_type": "markdown",
      "source": [
        "2. For **Poisson**, compare the tail probabilities P(X≥5) at λ=3 and the cumulative P(X≤2) at λ=4. How does λ influence the skewness and spread?"
      ],
      "metadata": {
        "id": "IwjIeqd-zFma"
      },
      "id": "IwjIeqd-zFma"
    },
    {
      "cell_type": "code",
      "source": [
        "# Put your answer here, enclosed in \"#\""
      ],
      "metadata": {
        "id": "P8jqhb1MzIUT"
      },
      "id": "P8jqhb1MzIUT",
      "execution_count": null,
      "outputs": []
    },
    {
      "cell_type": "markdown",
      "source": [
        "3. In **Hypergeometric**, explain how changing (M, K, N) affects the support and probabilities versus the Binomial with p = K/M. Why do these models differ conceptually?\n"
      ],
      "metadata": {
        "id": "8W-9LL_RzPhw"
      },
      "id": "8W-9LL_RzPhw"
    },
    {
      "cell_type": "code",
      "source": [
        "# Put your answer here, enclosed in \"#\""
      ],
      "metadata": {
        "id": "Rk53gBvizWaU"
      },
      "id": "Rk53gBvizWaU",
      "execution_count": null,
      "outputs": []
    },
    {
      "cell_type": "markdown",
      "source": [
        "4. For **Negative Binomial**, clarify the meaning of X in this notebook (total trials to achieve r successes). How does increasing r (holding p fixed) affect the PMF?\n",
        "\n"
      ],
      "metadata": {
        "id": "KiYWyUiRzW_S"
      },
      "id": "KiYWyUiRzW_S"
    },
    {
      "cell_type": "code",
      "source": [
        "# Put your answer here, enclosed in \"#\""
      ],
      "metadata": {
        "id": "KbKZQoM1zYBL"
      },
      "id": "KbKZQoM1zYBL",
      "execution_count": null,
      "outputs": []
    },
    {
      "cell_type": "markdown",
      "source": [
        "5. In the **Normal Distribution** , discuss the empirical vs. theoretical probability differences. What role does the choice of interval (e.g., ±1σ, ±2σ) play?"
      ],
      "metadata": {
        "id": "PiEZ8vhbzjr7"
      },
      "id": "PiEZ8vhbzjr7"
    },
    {
      "cell_type": "code",
      "source": [
        "# Put your answer here, enclosed in \"#\""
      ],
      "metadata": {
        "id": "ZOFzSrBizlWi"
      },
      "id": "ZOFzSrBizlWi",
      "execution_count": null,
      "outputs": []
    },
    {
      "cell_type": "markdown",
      "source": [
        "6. For the **Exponential**, interpret the “memoryless” property using your simulation results. How would this differ from the Normal or Uniform distributions?"
      ],
      "metadata": {
        "id": "5vdkONK0zpMI"
      },
      "id": "5vdkONK0zpMI"
    },
    {
      "cell_type": "code",
      "source": [
        "# Put your answer here, enclosed in \"#\""
      ],
      "metadata": {
        "id": "7q6eRTIkzqZ5"
      },
      "id": "7q6eRTIkzqZ5",
      "execution_count": null,
      "outputs": []
    },
    {
      "cell_type": "markdown",
      "source": [
        "7. For the **Uniform**, why is the PDF constant and how is this reflected in the probabilities you computed? If the interval length doubles, what happens to P(a ≤ X ≤ b) for a fixed-length sub-interval?\n"
      ],
      "metadata": {
        "id": "9yiQ4BGKzq39"
      },
      "id": "9yiQ4BGKzq39"
    },
    {
      "cell_type": "code",
      "source": [
        "# Put your answer here, enclosed in \"#\""
      ],
      "metadata": {
        "id": "F4Y81IiezsDf"
      },
      "id": "F4Y81IiezsDf",
      "execution_count": null,
      "outputs": []
    },
    {
      "cell_type": "markdown",
      "source": [
        "8. Across all distributions, when do you expect the empirical estimates to deviate more from theory? Comment on the role of the number of simulations and the event's probability (very small/large)."
      ],
      "metadata": {
        "id": "JUW74pfnzsg6"
      },
      "id": "JUW74pfnzsg6"
    },
    {
      "cell_type": "code",
      "source": [
        "# Put your answer here, enclosed in \"#\""
      ],
      "metadata": {
        "id": "sTl0GC99ztJo"
      },
      "id": "sTl0GC99ztJo",
      "execution_count": null,
      "outputs": []
    }
  ],
  "metadata": {
    "kernelspec": {
      "display_name": "Python 3",
      "language": "python",
      "name": "python3"
    },
    "language_info": {
      "name": "python",
      "pygments_lexer": "ipython3"
    },
    "colab": {
      "provenance": []
    }
  },
  "nbformat": 4,
  "nbformat_minor": 5
}