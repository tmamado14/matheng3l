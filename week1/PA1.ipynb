{
  "nbformat": 4,
  "nbformat_minor": 0,
  "metadata": {
    "colab": {
      "provenance": []
    },
    "kernelspec": {
      "name": "python3",
      "display_name": "Python 3"
    },
    "language_info": {
      "name": "python"
    }
  },
  "cells": [
    {
      "cell_type": "markdown",
      "source": [
        "# 📝 Programming Assignment 1\n",
        "\n",
        "## Objective  \n",
        "Practice using Python list comprehensions by creating a function that filters and transforms data in a single line of code.\n",
        "\n",
        "---\n",
        "\n",
        "## Problem Statement  \n",
        "Write a Python function `square_even_numbers(numbers)` that takes a list of integers `numbers` and returns a **new list** containing the **squares of all even numbers** from the input list.  \n",
        "\n",
        "You **must** use a **list comprehension** inside your function.  \n",
        "\n",
        "---\n",
        "\n",
        "## Function Signature  \n",
        "```python\n",
        "def square_even_numbers(numbers):\n",
        "    # Write your code here\n",
        "    return square_even_numbers\n",
        "```\n",
        "\n",
        "## Example\n",
        "```python\n",
        "# Input\n",
        "numbers = [1, 2, 3, 4, 5, 6]\n",
        "\n",
        "# Output\n",
        "[4, 16, 36]\n",
        "```\n",
        "---\n",
        "\n",
        "## Additional Information\n",
        "1. The input list can contain both positive and negative integers.\n",
        "2. If there are no even numbers, return an empty list.\n",
        "3. Use the test cases to verify your function.\n",
        "---\n",
        "## Test Cases\n",
        "```python\n",
        "print(square_even_numbers([1, 2, 3, 4, 5, 6]))  # Output: [4, 16, 36]\n",
        "print(square_even_numbers([7, 9, 11]))          # Output: []\n",
        "print(square_even_numbers([-2, -3, 0, 8]))      # Output: [4, 0, 64]\n",
        "```\n",
        "---\n",
        "## Submission\n",
        "Write your program in upload it in your Github repo. Submit your link via this [form](https://docs.google.com/forms/d/e/1FAIpQLSdO2FsgORy8mvhF4vX-mQDZBSdhrU7jWQ1Tf6SfZYrV6sM1Cg/viewform?usp=sharing&ouid=101082593704079378918)."
      ],
      "metadata": {
        "id": "-VsGmbYDfZih"
      }
    },
    {
      "cell_type": "code",
      "source": [],
      "metadata": {
        "id": "WAOKFAMEeyBH"
      },
      "execution_count": null,
      "outputs": []
    }
  ]
}