{
  "nbformat": 4,
  "nbformat_minor": 0,
  "metadata": {
    "colab": {
      "provenance": []
    },
    "kernelspec": {
      "name": "python3",
      "display_name": "Python 3"
    },
    "language_info": {
      "name": "python"
    }
  },
  "cells": [
    {
      "cell_type": "markdown",
      "source": [
        "# **Week 1: Python Basics for Electronics Engineering**\n",
        "\n",
        "Welcome to the first week of **Engineering Data Analysis Laboratory**! 🎉  \n",
        "\n",
        "This week marks the beginning of your journey into **Python programming**, tailored specifically for **Electronics Engineering (ECE)** applications. Whether you’re new to coding or have some prior experience, this lab will guide you through the **fundamentals of Python** while solving practical problems engineers face daily.\n",
        "\n",
        "## Learning Objectives\n",
        "By the end of this week, students will be able to:\n",
        "1. Understand Python syntax and basic programming concepts\n",
        "2. Work with variables and different data types\n",
        "3. Perform basic mathematical operations for circuit analysis\n",
        "4. Use Python for simple electronics calculations\n",
        "5. Understand the concept of functions and how to use them\n",
        "6. Format and display results professionally"
      ],
      "metadata": {
        "id": "jhCAplxG27MH"
      }
    },
    {
      "cell_type": "markdown",
      "source": [
        "## Part 1: Getting Started with Python\n",
        "\n",
        "### 1.1 Your First Python Program"
      ],
      "metadata": {
        "id": "n87c-sVn40LG"
      }
    },
    {
      "cell_type": "code",
      "source": [
        "# This is a comment - Python ignores everything after the # symbol\n",
        "\n",
        "print(\"Hello, Electronics Engineer!\")\n",
        "print(\"Welcome to Python Programming for ECE\")"
      ],
      "metadata": {
        "id": "uZSdHbSE4Pye"
      },
      "execution_count": null,
      "outputs": []
    },
    {
      "cell_type": "code",
      "source": [
        "# Python can be used as a calculator\n",
        "print(\"2 + 3 =\", 2 + 3)\n",
        "print(\"5 * 4 =\", 5 * 4)"
      ],
      "metadata": {
        "id": "b3gppRqv49d1"
      },
      "execution_count": null,
      "outputs": []
    },
    {
      "cell_type": "code",
      "source": [
        "# Let's calculate some basic electrical values\n",
        "voltage = 5.0  # Volts\n",
        "current = 0.5  # Amperes\n",
        "power = voltage * current\n",
        "print(f\"Power = {voltage}V × {current}A = {power}W\")"
      ],
      "metadata": {
        "id": "W68p_Aym5E7P"
      },
      "execution_count": null,
      "outputs": []
    },
    {
      "cell_type": "markdown",
      "source": [
        "### 1.2 Variables and Data Types"
      ],
      "metadata": {
        "id": "qVWsNPbW5R7P"
      }
    },
    {
      "cell_type": "code",
      "source": [
        "# Variables in Python - think of them as labeled containers\n",
        "\n",
        "# Numbers (for electrical calculations)\n",
        "voltage = 12.0          # float (decimal number)\n",
        "current_ma = 150        # integer (whole number)\n",
        "resistance = 100.5      # float\n",
        "\n",
        "# Strings (for component names, descriptions)\n",
        "component = \"Resistor\"\n",
        "part_number = \"R1\"\n",
        "manufacturer = \"Texas Instruments\"\n",
        "\n",
        "# Boolean (True/False for logic states)\n",
        "led_on = True\n",
        "switch_closed = False"
      ],
      "metadata": {
        "id": "jmk35slV5SPn"
      },
      "execution_count": null,
      "outputs": []
    },
    {
      "cell_type": "code",
      "source": [
        "# Let's check what type each variable is\n",
        "print(\"Data Types in ECE Applications:\")\n",
        "print(f\"voltage = {voltage}, type: {type(voltage)}\")\n",
        "print(f\"current_ma = {current_ma}, type: {type(current_ma)}\")\n",
        "print(f\"component = {component}, type: {type(component)}\")\n",
        "print(f\"led_on = {led_on}, type: {type(led_on)}\")"
      ],
      "metadata": {
        "id": "9DeosErM5dzx"
      },
      "execution_count": null,
      "outputs": []
    },
    {
      "cell_type": "markdown",
      "source": [
        "### **Lab Exercise 1**\n",
        "Create variables for the following electronic components and their values:\n",
        "1. A capacitor with value 100 microfarads (as a float)\n",
        "2. An inductor with value 50 millihenries (as a float)\n",
        "3. A transistor part number \"2N2222\" (as a string)\n",
        "4. A boolean variable indicating if a circuit is active"
      ],
      "metadata": {
        "id": "S6hdLJe16Gk_"
      }
    },
    {
      "cell_type": "code",
      "source": [
        "# Your code here:\n",
        "# 1. Capacitor value (microfarads)\n",
        "\n",
        "\n",
        "# 2. Inductor value (millihenries)\n",
        "\n",
        "\n",
        "# 3. Transistor part number\n",
        "\n",
        "\n",
        "# 4. Circuit active status\n",
        "\n",
        "\n",
        "# Print all your variables with their types"
      ],
      "metadata": {
        "id": "4lWFDX5-5gBQ"
      },
      "execution_count": null,
      "outputs": []
    },
    {
      "cell_type": "markdown",
      "source": [
        "## Part 2: Basic Mathematical Operations\n",
        "\n",
        "### 2.1 Arithmetic Operators"
      ],
      "metadata": {
        "id": "45ge9Cwo6QRD"
      }
    },
    {
      "cell_type": "code",
      "source": [
        "# Basic arithmetic operators\n",
        "print(\"Basic Arithmetic Operators:\")\n",
        "print(\"Addition (+):\", 5 + 3)\n",
        "print(\"Subtraction (-):\", 10 - 4)\n",
        "print(\"Multiplication (*):\", 6 * 7)\n",
        "print(\"Division (/):\", 15 / 3)\n",
        "print(\"Floor Division (//):\", 17 // 3)  # Integer division\n",
        "print(\"Modulus (%):\", 17 % 3)           # Remainder\n",
        "print(\"Exponentiation (**):\", 2 ** 3)   # 2 to the power of 3"
      ],
      "metadata": {
        "id": "gJanNZ-A6UUN"
      },
      "execution_count": null,
      "outputs": []
    },
    {
      "cell_type": "code",
      "source": [
        "# What does this code do? Try it and explain\n",
        "print(\"\\n\" + \"=\"*50)"
      ],
      "metadata": {
        "id": "52CyUUYL6dLV"
      },
      "execution_count": null,
      "outputs": []
    },
    {
      "cell_type": "code",
      "source": [
        "# Ohm's Law: V = I * R\n",
        "voltage = 12.0      # Volts\n",
        "resistance = 330    # Ohms\n",
        "current = voltage / resistance\n",
        "print(f\"Ohm's Law: I = V/R = {voltage}V / {resistance}Ω = {current:.3f}A\")"
      ],
      "metadata": {
        "id": "os0S1rVm6pR_"
      },
      "execution_count": null,
      "outputs": []
    },
    {
      "cell_type": "code",
      "source": [
        "# Power calculations: P = V * I = V²/R = I²*R\n",
        "power_vi = voltage * current\n",
        "power_v2r = (voltage ** 2) / resistance\n",
        "power_i2r = (current ** 2) * resistance\n",
        "print(f\"Power (P=VI): {power_vi:.3f}W\")\n",
        "print(f\"Power (P=V²/R): {power_v2r:.3f}W\")\n",
        "print(f\"Power (P=I²R): {power_i2r:.3f}W\")"
      ],
      "metadata": {
        "id": "MV21bz056yTk"
      },
      "execution_count": null,
      "outputs": []
    },
    {
      "cell_type": "markdown",
      "source": [
        "### 2.2 Working with Complex Numbers"
      ],
      "metadata": {
        "id": "Gdgl1cGP63v6"
      }
    },
    {
      "cell_type": "code",
      "source": [
        "# In Python, 'j' is used for the imaginary unit (engineers use 'j' instead of 'i')\n",
        "\n",
        "# Creating complex numbers\n",
        "z1 = 3 + 4j         # Rectangular form (3 + j4)\n",
        "z2 = complex(5, 2)  # Another way: 5 + j2\n",
        "\n",
        "print(\"Complex Number Operations:\")\n",
        "print(f\"z1 = {z1}\")\n",
        "print(f\"z2 = {z2}\")"
      ],
      "metadata": {
        "id": "Qob3sUkv61Cw"
      },
      "execution_count": null,
      "outputs": []
    },
    {
      "cell_type": "code",
      "source": [
        "# Basic operations\n",
        "z_sum = z1 + z2\n",
        "z_product = z1 * z2\n",
        "z_conjugate = z1.conjugate()\n",
        "\n",
        "print(f\"Sum: z1 + z2 = {z_sum}\")\n",
        "print(f\"Product: z1 × z2 = {z_product}\")\n",
        "print(f\"Conjugate of z1 = {z_conjugate}\")"
      ],
      "metadata": {
        "id": "J3uE8lFm7BRy"
      },
      "execution_count": null,
      "outputs": []
    },
    {
      "cell_type": "code",
      "source": [
        "# Magnitude and phase\n",
        "import math\n",
        "\n",
        "magnitude = abs(z1)\n",
        "phase_radians = math.atan2(z1.imag, z1.real)\n",
        "phase_degrees = math.degrees(phase_radians)\n",
        "\n",
        "print(f\"Magnitude of z1: {magnitude:.3f}\")\n",
        "print(f\"Phase of z1: {phase_degrees:.1f}°\")"
      ],
      "metadata": {
        "id": "an0Qz_QK7G6t"
      },
      "execution_count": null,
      "outputs": []
    },
    {
      "cell_type": "markdown",
      "source": [
        "### **Lab Exercise 2**\n",
        "Solve the following problems using Python:\n",
        "\n",
        "1. Calculate the total resistance of three resistors in series: 100Ω, 220Ω, and 470Ω\n",
        "2. Calculate the total resistance of the same three resistors in parallel\n",
        "3. Find the impedance magnitude of a series RC circuit where R=1kΩ and XC=1.5kΩ\n",
        "4. Calculate the time constant (τ) of an RC circuit where R=10kΩ and C=100μF"
      ],
      "metadata": {
        "id": "bCz3Nx0l7V8B"
      }
    },
    {
      "cell_type": "code",
      "source": [
        "# Your code here:\n",
        "# 1. Series resistance\n",
        "\n",
        "\n",
        "# 2. Parallel resistance\n",
        "\n",
        "\n",
        "# 3. RC impedance magnitude\n",
        "\n",
        "\n",
        "# 4. Time constant (τ = RC)"
      ],
      "metadata": {
        "id": "j8l5m2ud7bBd"
      },
      "execution_count": null,
      "outputs": []
    },
    {
      "cell_type": "markdown",
      "source": [
        "## Part  3: Strings and Formatting\n",
        "\n",
        "### 3.1 Working with Strings for Component Information"
      ],
      "metadata": {
        "id": "aQQUeMmx7zMj"
      }
    },
    {
      "cell_type": "code",
      "source": [
        "# String operations for component management\n",
        "component = \"Resistor\"\n",
        "value = \"4.7k\"\n",
        "tolerance = \"5%\"\n",
        "package = \"0805\"\n",
        "\n",
        "# String concatenation\n",
        "description = component + \" \" + value + \"Ω ±\" + tolerance + \" \" + package\n",
        "print(\"Concatenation:\", description)"
      ],
      "metadata": {
        "id": "hGWwOmPD7jgZ"
      },
      "execution_count": null,
      "outputs": []
    },
    {
      "cell_type": "code",
      "source": [
        "description_formatted = f\"{component} {value}Ω ±{tolerance} {package}\"\n",
        "print(\"F-string formatting:\", description_formatted)"
      ],
      "metadata": {
        "id": "m1XSZMzA7_yW"
      },
      "execution_count": null,
      "outputs": []
    },
    {
      "cell_type": "code",
      "source": [
        "# String methods\n",
        "part_number = \"lm358n\"\n",
        "print(\"Original:\", part_number)\n",
        "print(\"Uppercase:\", part_number.upper())\n",
        "print(\"Title case:\", part_number.title())\n",
        "print(\"Length:\", len(part_number))"
      ],
      "metadata": {
        "id": "U00HeLu-8LjH"
      },
      "execution_count": null,
      "outputs": []
    },
    {
      "cell_type": "markdown",
      "source": [
        "### 3.2 Professional Output Formatting"
      ],
      "metadata": {
        "id": "QPavtjtq8RzT"
      }
    },
    {
      "cell_type": "code",
      "source": [
        "# Professional formatting for engineering reports\n",
        "voltage = 3.35\n",
        "current = 0.0234\n",
        "power = voltage * current\n",
        "\n",
        "# Different formatting options\n",
        "print(\"Basic formatting:\")\n",
        "print(f\"Voltage: {voltage}V\")\n",
        "print(f\"Current: {current}A\")\n",
        "print(f\"Power: {power}W\")\n",
        "\n",
        "print(\"\\nProfessional formatting:\")\n",
        "print(f\"Voltage: {voltage:.1f}V\")           # 1 decimal place\n",
        "print(f\"Current: {current*1000:.1f}mA\")     # Convert to mA\n",
        "print(f\"Power: {power*1000:.2f}mW\")         # Convert to mW\n",
        "\n",
        "print(\"\\nEngineering notation:\")\n",
        "print(f\"Current: {current:.2e}A\")           # Scientific notation\n",
        "print(f\"Power: {power:.3e}W\")\n",
        "\n",
        "# Table formatting\n",
        "print(\"\\n\" + \"=\"*50)\n",
        "print(\"Component Analysis Report\")\n",
        "print(\"=\"*50)\n",
        "print(f\"{'Parameter':<15} {'Value':<10} {'Unit':<5}\")\n",
        "print(\"-\"*30)\n",
        "print(f\"{'Voltage':<15} {voltage:<10.1f} {'V':<5}\")\n",
        "print(f\"{'Current':<15} {current*1000:<10.1f} {'mA':<5}\")\n",
        "print(f\"{'Power':<15} {power*1000:<10.2f} {'mW':<5}\")"
      ],
      "metadata": {
        "id": "P4jn0OM18SHW"
      },
      "execution_count": null,
      "outputs": []
    },
    {
      "cell_type": "markdown",
      "source": [
        "### **Lab Exercise 3**\n",
        "Create a professional component specification report:\n",
        "\n",
        "1. Create variables for an LED: forward voltage (2.1V), forward current (20mA), color (\"Red\")\n",
        "2. Calculate the required series resistor for 5V supply\n",
        "3. Format and display the information in a professional report format"
      ],
      "metadata": {
        "id": "dQxXQFLK9fa0"
      }
    },
    {
      "cell_type": "code",
      "source": [
        "# Your code here:\n",
        "# 1. LED specifications\n",
        "\n",
        "\n",
        "# 2. Series resistor calculation\n",
        "\n",
        "\n",
        "# 3. Professional report format"
      ],
      "metadata": {
        "id": "XOwapg5C8W-W"
      },
      "execution_count": null,
      "outputs": []
    },
    {
      "cell_type": "markdown",
      "source": [
        "## Part 4: Lists and Basic Data Structures\n",
        "\n",
        "### 4.1 Lists"
      ],
      "metadata": {
        "id": "_whl3taS9vzU"
      }
    },
    {
      "cell_type": "code",
      "source": [
        "# Lists - ordered collections of items\n",
        "resistor_values = [100, 220, 470, 1000, 2200]  # Standard resistor values in ohms\n",
        "component_types = [\"Resistor\", \"Capacitor\", \"Inductor\", \"Diode\", \"Transistor\"]\n",
        "voltages = [1.8, 3.3, 5.0, 12.0, 24.0]  # Common supply voltages\n",
        "\n",
        "print(\"Resistor values:\", resistor_values)\n",
        "print(\"Component types:\", component_types)"
      ],
      "metadata": {
        "id": "syxbvume9ufh"
      },
      "execution_count": null,
      "outputs": []
    },
    {
      "cell_type": "code",
      "source": [
        "# Accessing list elements (indexing starts at 0)\n",
        "print(f\"First resistor value: {resistor_values[0]}Ω\")\n",
        "print(f\"Last component type: {component_types[-1]}\")\n",
        "print(f\"Third voltage: {voltages[2]}V\")"
      ],
      "metadata": {
        "id": "0SwUgbK094UM"
      },
      "execution_count": null,
      "outputs": []
    },
    {
      "cell_type": "code",
      "source": [
        "# List operations\n",
        "resistor_values.append(4700)  # Add new value\n",
        "print(\"After adding 4.7kΩ:\", resistor_values)\n",
        "\n",
        "resistor_values.remove(220)   # Remove specific value\n",
        "print(\"After removing 220Ω:\", resistor_values)"
      ],
      "metadata": {
        "id": "AmiAwhub-XsS"
      },
      "execution_count": null,
      "outputs": []
    },
    {
      "cell_type": "code",
      "source": [
        "# List functions\n",
        "print(f\"Number of resistors: {len(resistor_values)}\")\n",
        "print(f\"Maximum resistance: {max(resistor_values)}Ω\")\n",
        "print(f\"Minimum resistance: {min(resistor_values)}Ω\")\n",
        "print(f\"Total resistance (if in series): {sum(resistor_values)}Ω\")"
      ],
      "metadata": {
        "id": "ODeHMQh9-bXs"
      },
      "execution_count": null,
      "outputs": []
    },
    {
      "cell_type": "markdown",
      "source": [
        "### 4.2 Dictionaries"
      ],
      "metadata": {
        "id": "Ik1Ikxwv-hBy"
      }
    },
    {
      "cell_type": "code",
      "source": [
        "# Dictionaries - key-value pairs for component specifications\n",
        "led_red = {\n",
        "    \"color\": \"Red\",\n",
        "    \"forward_voltage\": 2.1,\n",
        "    \"forward_current\": 0.02,  # in Amperes\n",
        "    \"wavelength\": 660,        # in nanometers\n",
        "    \"package\": \"5mm\"\n",
        "}\n",
        "\n",
        "resistor_1k = {\n",
        "    \"value\": 1000,           # Ohms\n",
        "    \"tolerance\": 5,          # Percent\n",
        "    \"power_rating\": 0.25,    # Watts\n",
        "    \"package\": \"0805\"\n",
        "}\n",
        "\n",
        "print(\"LED Specifications:\")\n",
        "for key, value in led_red.items():\n",
        "    print(f\"  {key}: {value}\")\n",
        "\n",
        "print(f\"\\nResistor value: {resistor_1k['value']}Ω\")\n",
        "print(f\"Resistor tolerance: ±{resistor_1k['tolerance']}%\")"
      ],
      "metadata": {
        "id": "1YxGnxoE-hUL"
      },
      "execution_count": null,
      "outputs": []
    },
    {
      "cell_type": "code",
      "source": [
        "# Adding new dictionary entries\n",
        "led_red[\"manufacturer\"] = \"Analog Devices Inc\"\n",
        "led_red[\"part_number\"] = \"TLHRT-3401\"\n",
        "\n",
        "print(f\"\\nUpdated LED info:\")\n",
        "print(f\"Part: {led_red['part_number']} by {led_red['manufacturer']}\")"
      ],
      "metadata": {
        "id": "fIrZEDlW-saz"
      },
      "execution_count": null,
      "outputs": []
    },
    {
      "cell_type": "markdown",
      "source": [
        "### **Lab Exercise 4**\n",
        "Create a component inventory system:\n",
        "\n",
        "1. Create a list of capacitor values: [10, 22, 47, 100, 220] (in microfarads)\n",
        "2. Create a dictionary for a specific capacitor with keys: value, voltage_rating, type, package\n",
        "3. Calculate which capacitors from your list could be used in a 12V circuit\n",
        "4. Add a new capacitor value to your list"
      ],
      "metadata": {
        "id": "4wcf7iz3-ypA"
      }
    },
    {
      "cell_type": "code",
      "source": [
        "# Your code here:\n",
        "# 1. Capacitor values list\n",
        "\n",
        "\n",
        "# 2. Specific capacitor dictionary\n",
        "\n",
        "\n",
        "# 3. Suitable capacitors for 12V (assume minimum 16V rating needed)\n",
        "\n",
        "\n",
        "# 4. Add new capacitor value"
      ],
      "metadata": {
        "id": "K7wdcVy2_TfI"
      },
      "execution_count": null,
      "outputs": []
    },
    {
      "cell_type": "markdown",
      "source": [
        "## Part 5: Control Flow\n",
        "\n",
        "### 5.1 Conditional Statements"
      ],
      "metadata": {
        "id": "FT-X4SIV_128"
      }
    },
    {
      "cell_type": "code",
      "source": [
        "# If-else statements\n",
        "supply_voltage = 5.0\n",
        "led_forward_voltage = 2.1\n",
        "max_current_mA = 25\n",
        "min_current_mA = 15\n",
        "\n",
        "# Check if standard resistor values will work\n",
        "standard_resistors = [100, 150, 220, 330, 470, 680, 1000]\n",
        "\n",
        "print(\"\\nStandard Resistor Analysis:\")\n",
        "for resistor in standard_resistors:\n",
        "    actual_current = (supply_voltage - led_forward_voltage) / resistor\n",
        "    actual_current_ma = actual_current * 1000\n",
        "\n",
        "    if actual_current_ma > max_current_mA:\n",
        "        status = \"TOO HIGH - May damage LED\"\n",
        "    elif actual_current_ma < min_current_mA:\n",
        "        status = \"TOO LOW - LED may be dim\"\n",
        "    else:\n",
        "        status = \"SUITABLE\"\n",
        "\n",
        "    print(f\"{resistor}Ω → {actual_current_ma:.1f}mA ({status})\")"
      ],
      "metadata": {
        "id": "B_9knzFG_0Uo"
      },
      "execution_count": null,
      "outputs": []
    },
    {
      "cell_type": "markdown",
      "source": [
        "### 5.2 Multiple Conditions and Logic"
      ],
      "metadata": {
        "id": "MvtyRtjGA7fU"
      }
    },
    {
      "cell_type": "code",
      "source": [
        "input_voltage = 12.0\n",
        "required_output = 5.0\n",
        "max_current = 2.0  # Amperes\n",
        "\n",
        "# Multiple condition checks\n",
        "if input_voltage < required_output:\n",
        "    print(\"ERROR: Input voltage too low for linear regulation\")\n",
        "    regulation_type = \"Buck converter required\"\n",
        "elif input_voltage > required_output * 3:\n",
        "    print(\"WARNING: High dropout voltage - consider switching regulator\")\n",
        "    regulation_type = \"Switching regulator recommended\"\n",
        "else:\n",
        "    print(\"OK: Linear regulator suitable\")\n",
        "    regulation_type = \"Linear regulator\"\n",
        "\n",
        "# Power dissipation calculation\n",
        "if regulation_type == \"Linear regulator\":\n",
        "    power_dissipation = (input_voltage - required_output) * max_current\n",
        "    print(f\"Power dissipation: {power_dissipation:.1f}W\")\n",
        "\n",
        "    if power_dissipation > 2:\n",
        "        print(\"WARNING: High power dissipation - needs heat sink\")\n",
        "    elif power_dissipation > 1:\n",
        "        print(\"CAUTION: Moderate power dissipation - monitor temperature\")\n",
        "    else:\n",
        "        print(\"OK: Low power dissipation\")"
      ],
      "metadata": {
        "colab": {
          "base_uri": "https://localhost:8080/"
        },
        "id": "ftg0VvTjAF89",
        "outputId": "2b9ee848-ed70-44a6-c361-07365c2eab00"
      },
      "execution_count": null,
      "outputs": [
        {
          "output_type": "stream",
          "name": "stdout",
          "text": [
            "OK: Linear regulator suitable\n",
            "Power dissipation: 14.0W\n",
            "WARNING: High power dissipation - needs heat sink\n"
          ]
        }
      ]
    },
    {
      "cell_type": "markdown",
      "source": [
        "### **Lab Exercise 5**\n",
        "Create a battery life calculator:\n",
        "\n",
        "1. Given battery capacity (mAh), circuit current (mA), and minimum voltage\n",
        "2. Calculate estimated battery life in hours\n",
        "3. Provide warnings based on battery life:\n",
        "   - Less than 1 hour: \"Critical - redesign needed\"\n",
        "   - 1-8 hours: \"Short life - consider optimization\"\n",
        "   - 8-24 hours: \"Acceptable for portable device\"\n",
        "   - More than 24 hours: \"Excellent battery life\""
      ],
      "metadata": {
        "id": "8bfzNea3Bd4z"
      }
    },
    {
      "cell_type": "code",
      "source": [
        "# Your code here:\n",
        "# Battery life calculator\n",
        "battery_capacity_mah = 2000  # Example: 2000mAh battery\n",
        "circuit_current_ma = 50      # Example: 50mA current draw\n",
        "min_voltage = 3.0           # Example: 3V minimum\n",
        "\n",
        "# 1. Calculate battery life in hours.\n",
        "\n",
        "\n",
        "# 2. Determine status based on life using multiple if-else statements.\n",
        "\n",
        "\n",
        "# 3. Print results with appropriate warnings. Test by changing different circuit currents"
      ],
      "metadata": {
        "id": "U2BLTOHaBDkO"
      },
      "execution_count": null,
      "outputs": []
    },
    {
      "cell_type": "markdown",
      "source": [
        "## Part 6: Loop Statements\n",
        "### 6.1 For Loops\n"
      ],
      "metadata": {
        "id": "jaMceqXdCdn1"
      }
    },
    {
      "cell_type": "code",
      "source": [
        "# Analyzing multiple components with for loops\n",
        "resistor_values = [100, 220, 470, 1000, 2200, 4700]  # Ohms\n",
        "test_voltage = 5.0  # Volts\n",
        "\n",
        "print(\"Resistor Power Analysis at 5V:\")\n",
        "print(\"=\"*45)\n",
        "print(f\"{'Resistance':<12} {'Current':<10} {'Power':<10}\")\n",
        "print(f\"{'(Ω)':<12} {'(mA)':<10} {'(mW)':<10}\")\n",
        "print(\"-\"*32)\n",
        "\n",
        "for resistance in resistor_values:\n",
        "    current_ma = (test_voltage / resistance) * 1000  # Convert to mA\n",
        "    power_mw = (test_voltage ** 2 / resistance) * 1000  # Convert to mW\n",
        "\n",
        "    print(f\"{resistance:<12} {current_ma:<10.1f} {power_mw:<10.1f}\")"
      ],
      "metadata": {
        "colab": {
          "base_uri": "https://localhost:8080/"
        },
        "id": "2oQP0p0DCRPo",
        "outputId": "54ad5ae9-91f0-4528-bcdd-74eedd69734a"
      },
      "execution_count": null,
      "outputs": [
        {
          "output_type": "stream",
          "name": "stdout",
          "text": [
            "Resistor Power Analysis at 5V:\n",
            "=============================================\n",
            "Resistance   Current    Power     \n",
            "(Ω)          (mA)       (mW)      \n",
            "--------------------------------\n",
            "100          50.0       250.0     \n",
            "220          22.7       113.6     \n",
            "470          10.6       53.2      \n",
            "1000         5.0        25.0      \n",
            "2200         2.3        11.4      \n",
            "4700         1.1        5.3       \n"
          ]
        }
      ]
    },
    {
      "cell_type": "code",
      "source": [
        "# Finding components within specifications\n",
        "print(f\"\\nResistors suitable for 1/4W (250mW) rating:\")\n",
        "suitable_resistors = []\n",
        "\n",
        "for resistance in resistor_values:\n",
        "    power_mw = (test_voltage ** 2 / resistance) * 1000\n",
        "    if power_mw <= 250:\n",
        "        suitable_resistors.append(resistance)\n",
        "        print(f\"  {resistance}Ω (Power: {power_mw:.1f}mW)\")\n",
        "\n",
        "print(f\"Found {len(suitable_resistors)} suitable resistors\")"
      ],
      "metadata": {
        "colab": {
          "base_uri": "https://localhost:8080/"
        },
        "id": "5yDCHtMlCm_m",
        "outputId": "339be7e1-e0e5-46f3-faf2-4fb3f8b5226e"
      },
      "execution_count": null,
      "outputs": [
        {
          "output_type": "stream",
          "name": "stdout",
          "text": [
            "\n",
            "Resistors suitable for 1/4W (250mW) rating:\n",
            "  100Ω (Power: 250.0mW)\n",
            "  220Ω (Power: 113.6mW)\n",
            "  470Ω (Power: 53.2mW)\n",
            "  1000Ω (Power: 25.0mW)\n",
            "  2200Ω (Power: 11.4mW)\n",
            "  4700Ω (Power: 5.3mW)\n",
            "Found 6 suitable resistors\n"
          ]
        }
      ]
    },
    {
      "cell_type": "markdown",
      "source": [
        "### 6.2 While Loops"
      ],
      "metadata": {
        "id": "_0GguLlEDcOZ"
      }
    },
    {
      "cell_type": "code",
      "source": [
        "# Using while loop for iterative design optimization\n",
        "target_frequency = 1000  # Hz for RC oscillator\n",
        "capacitor = 100e-9       # 100nF\n",
        "tolerance = 0.05         # 5% tolerance\n",
        "\n",
        "print(f\"Designing RC circuit for {target_frequency}Hz\")\n",
        "print(\"Testing resistor values...\")\n",
        "\n",
        "# RC frequency formula: f = 1/(2πRC)\n",
        "import math\n",
        "\n",
        "resistor = 1000  # Start with 1kΩ\n",
        "best_resistor = resistor\n",
        "min_error = float('inf')\n",
        "\n",
        "while resistor <= 100000:  # Test up to 100kΩ\n",
        "    frequency = 1 / (2 * math.pi * resistor * capacitor)\n",
        "    error = abs(frequency - target_frequency) / target_frequency\n",
        "\n",
        "    if error < min_error:\n",
        "        min_error = error\n",
        "        best_resistor = resistor\n",
        "\n",
        "    if error <= tolerance:\n",
        "        print(f\"  {resistor}Ω → {frequency:.1f}Hz (Error: {error*100:.2f}%)\")\n",
        "\n",
        "    resistor += 100  # Increment by 100Ω\n",
        "\n",
        "print(f\"\\nBest match: {best_resistor}Ω\")\n",
        "best_frequency = 1 / (2 * math.pi * best_resistor * capacitor)\n",
        "print(f\"Actual frequency: {best_frequency:.1f}Hz\")\n",
        "print(f\"Error: {min_error*100:.2f}%\")"
      ],
      "metadata": {
        "colab": {
          "base_uri": "https://localhost:8080/"
        },
        "id": "AoHd1nOpDb1Z",
        "outputId": "4f36f9cd-82f8-4989-db91-dabbf77bfce5"
      },
      "execution_count": null,
      "outputs": [
        {
          "output_type": "stream",
          "name": "stdout",
          "text": [
            "Designing RC circuit for 1000Hz\n",
            "Testing resistor values...\n",
            "  1600Ω → 994.7Hz (Error: 0.53%)\n",
            "\n",
            "Best match: 1600Ω\n",
            "Actual frequency: 994.7Hz\n",
            "Error: 0.53%\n"
          ]
        }
      ]
    },
    {
      "cell_type": "markdown",
      "source": [
        "### **Lab Exercise 6**\n",
        "Create a voltage divider calculator:\n",
        "\n",
        "1. Use a for loop to test different R2 values from 1kΩ to 10kΩ (step by 1kΩ)\n",
        "2. For each R2, calculate the output voltage when R1=2.2kΩ and Vin=12V\n",
        "3. Find which R2 values give output voltages between 3V and 6V\n",
        "4. Use the formula: Vout = Vin × R2/(R1+R2)"
      ],
      "metadata": {
        "id": "sYpj1UKYEYzY"
      }
    },
    {
      "cell_type": "code",
      "source": [
        "# Your code here"
      ],
      "metadata": {
        "id": "qQSybU-RGUHF"
      },
      "execution_count": null,
      "outputs": []
    },
    {
      "cell_type": "markdown",
      "source": [
        "## Exercise 7: Functions for Reusable Code\n",
        "\n",
        "### 7.1 Creating Functions"
      ],
      "metadata": {
        "id": "CmaSe9rZE5qM"
      }
    },
    {
      "cell_type": "code",
      "source": [
        "def ohms_law_current(voltage, resistance):\n",
        "    \"\"\"Calculate current using Ohm's law: I = V/R\"\"\"\n",
        "    current = voltage / resistance\n",
        "    return current\n",
        "\n",
        "def ohms_law_voltage(current, resistance):\n",
        "    \"\"\"Calculate voltage using Ohm's law: V = I*R\"\"\"\n",
        "    voltage = current * resistance\n",
        "    return voltage\n",
        "\n",
        "def ohms_law_resistance(voltage, current):\n",
        "    \"\"\"Calculate resistance using Ohm's law: R = V/I\"\"\"\n",
        "    resistance = voltage / current\n",
        "    return resistance\n",
        "\n",
        "def power_calculation(voltage, current):\n",
        "    \"\"\"Calculate power: P = V*I\"\"\"\n",
        "    power = voltage * current\n",
        "    return power"
      ],
      "metadata": {
        "id": "Ay46wyhPDHl7"
      },
      "execution_count": null,
      "outputs": []
    },
    {
      "cell_type": "code",
      "source": [
        "# Using our functions\n",
        "test_voltage = 9.0\n",
        "test_resistance = 1500\n",
        "\n",
        "current = ohms_law_current(test_voltage, test_resistance)\n",
        "power = power_calculation(test_voltage, current)\n",
        "\n",
        "print(\"Function Examples:\")\n",
        "print(f\"Voltage: {test_voltage}V\")\n",
        "print(f\"Resistance: {test_resistance}Ω\")\n",
        "print(f\"Current: {current:.4f}A = {current*1000:.1f}mA\")\n",
        "print(f\"Power: {power:.4f}W = {power*1000:.1f}mW\")"
      ],
      "metadata": {
        "id": "yeinM7kNGXtm"
      },
      "execution_count": null,
      "outputs": []
    },
    {
      "cell_type": "markdown",
      "source": [
        "### 7.2 Functions with Multiple Parameters and Return Values"
      ],
      "metadata": {
        "id": "qtbuAj2jGfvP"
      }
    },
    {
      "cell_type": "code",
      "source": [
        "def voltage_divider(vin, r1, r2):\n",
        "    \"\"\"\n",
        "    Calculate voltage divider output and current\n",
        "    Returns: (vout, current)\n",
        "    \"\"\"\n",
        "    vout = vin * r2 / (r1 + r2)\n",
        "    total_resistance = r1 + r2\n",
        "    current = vin / total_resistance\n",
        "    return vout, current\n",
        "\n",
        "def rc_time_constant(resistance, capacitance):\n",
        "    \"\"\"\n",
        "    Calculate RC time constant and related parameters\n",
        "    Returns: (tau, frequency_3db, settling_time)\n",
        "    \"\"\"\n",
        "    import math\n",
        "\n",
        "    tau = resistance * capacitance\n",
        "    frequency_3db = 1 / (2 * math.pi * tau)\n",
        "    settling_time = 5 * tau  # 99.3% settling\n",
        "\n",
        "    return tau, frequency_3db, settling_time"
      ],
      "metadata": {
        "id": "42H83Ex8Gbxu"
      },
      "execution_count": null,
      "outputs": []
    },
    {
      "cell_type": "code",
      "source": [
        "print(\"Voltage Divider Example:\")\n",
        "vout, current = voltage_divider(12, 2200, 1000)\n",
        "print(f\"Output: {vout:.2f}V, Current: {current*1000:.2f}mA\")\n",
        "\n",
        "print(\"\\nRC Time Constant Example:\")\n",
        "tau, f3db, settle = rc_time_constant(10000, 100e-9)  # 10kΩ, 100nF\n",
        "print(f\"Time constant: {tau*1e6:.1f}μs\")\n",
        "print(f\"3dB frequency: {f3db:.1f}Hz\")\n",
        "print(f\"Settling time: {settle*1e6:.1f}μs\")"
      ],
      "metadata": {
        "id": "VRyqdV4RGkl1"
      },
      "execution_count": null,
      "outputs": []
    },
    {
      "cell_type": "markdown",
      "source": [
        "### **Lab Exercise 7**\n",
        "Create your own functions:\n",
        "\n",
        "1. Create a function `led_resistor(supply_v, led_v, led_current)` that returns the required series resistor\n",
        "2. Create a function `parallel_resistance(r1, r2)` that calculates parallel resistance\n",
        "3. Create a function `db_conversion(ratio)` that converts a ratio to decibels (dB = 20*log10(ratio))\n",
        "4. Test all functions with example values"
      ],
      "metadata": {
        "id": "ei75oOrwGzqx"
      }
    },
    {
      "cell_type": "code",
      "source": [
        "# Your code here"
      ],
      "metadata": {
        "id": "oi8GACGWGnTJ"
      },
      "execution_count": null,
      "outputs": []
    },
    {
      "cell_type": "markdown",
      "source": [
        "## Part 8: List Comprehension\n",
        "\n",
        "Python offers a **compact way** to create and manipulate lists using **list comprehension**.  \n",
        "This is especially useful for engineers who need to process multiple component values efficiently.\n",
        "\n",
        "### Example: Power Dissipation for Multiple Resistors\n",
        "\n",
        "Suppose you have a list of resistor values, and you want to calculate the **power dissipated** by each when connected to a 12V supply.\n"
      ],
      "metadata": {
        "id": "f5sJgt3WHuIe"
      }
    },
    {
      "cell_type": "code",
      "source": [
        "resistors = [100, 220, 330, 470, 1000]  # in ohms\n",
        "voltage = 12  # volts\n",
        "\n",
        "# Using a traditional for-loop\n",
        "power_list_loop = []\n",
        "for r in resistors:\n",
        "    power = (voltage ** 2) / r\n",
        "    power_list_loop.append(power)"
      ],
      "metadata": {
        "id": "B_7ibeElHuiL"
      },
      "execution_count": null,
      "outputs": []
    },
    {
      "cell_type": "code",
      "source": [
        "# Using list comprehension (one-liner)\n",
        "power_list_comp = [(voltage ** 2) / r for r in resistors]\n",
        "\n",
        "print(\"Power Dissipation (Loop):\", power_list_loop)\n",
        "print(\"Power Dissipation (List Comprehension):\", power_list_comp)"
      ],
      "metadata": {
        "id": "E4f3892aH3X9"
      },
      "execution_count": null,
      "outputs": []
    },
    {
      "cell_type": "markdown",
      "source": [
        "### Lab Exercise 8\n",
        "\n",
        "You are given a list of student scores (integers from 0 to 100). Your task is to:\n",
        "\n",
        "1. **Filter** the passing scores (scores ≥ 75).  \n",
        "2. **Convert** the passing scores into remarks:  \n",
        "   - 90–100 → `\"Excellent\"`  \n",
        "   - 75–89 → `\"Passed\"`  \n",
        "3. **Count** how many students passed.\n",
        "\n",
        "---\n",
        "\n",
        "### **Input Example**\n",
        "\n",
        "```python\n",
        "scores = [88, 73, 92, 60, 85, 100, 45, 77, 89]\n",
        "```\n",
        "### **Output**\n",
        "```python\n",
        "passing_scores = [88, 92, 85, 100, 77, 89]\n",
        "remarks = ['Passed', 'Excellent', 'Passed', 'Excellent', 'Passed', 'Passed']\n",
        "number_passed = 6\n",
        "```\n",
        "4. Use **list comprehension** to implement this.\n"
      ],
      "metadata": {
        "id": "GabI-4tBIiOV"
      }
    },
    {
      "cell_type": "code",
      "source": [
        "# Code Here"
      ],
      "metadata": {
        "id": "SRA5pH7SIrUR"
      },
      "execution_count": null,
      "outputs": []
    }
  ]
}