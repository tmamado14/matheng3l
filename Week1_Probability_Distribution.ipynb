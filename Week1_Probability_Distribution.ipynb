{
  "cells": [
    {
      "cell_type": "markdown",
      "metadata": {},
      "source": [
        "# Engineering Data Analysis \u2013 Lab 1\n",
        "### Topic: Probability Distributions and Random Variables (Python)\n",
        "**Date prepared:** 2025-08-11\n",
        "\n",
        "**Goal:** Reinforce the theory of discrete and continuous probability distributions through simulation, computation, and visualization in Python.\n"
      ]
    },
    {
      "cell_type": "markdown",
      "metadata": {},
      "source": [
        "## Learning Objectives\n",
        "By the end of this lab, you will be able to:\n",
        "1. Generate random variables from common discrete and continuous probability distributions using Python.\n",
        "2. Compute theoretical and empirical probabilities for given random variables.\n",
        "3. Visualize PMFs, PDFs, and (where appropriate) quick histograms.\n",
        "4. Compare theoretical expectations (mean, variance) with simulated estimates.\n"
      ]
    },
    {
      "cell_type": "markdown",
      "metadata": {},
      "source": [
        "## Pre-Lab (review before starting)\n",
        "- Review definitions: random variable, PMF, PDF, and CDF.\n",
        "- Recall formulas for mean and variance for: Binomial, Poisson, Hypergeometric, Negative Binomial, Normal, Exponential, Uniform.\n",
        "- Make sure you have the following packages installed:\n",
        "```bash\n",
        "pip install numpy scipy matplotlib\n",
        "```\n"
      ]
    },
    {
      "cell_type": "code",
      "execution_count": null,
      "metadata": {},
      "outputs": [],
      "source": [
        "# Setup\n",
        "import numpy as np\n",
        "import matplotlib.pyplot as plt\n",
        "from scipy import stats\n",
        "\n",
        "np.random.seed(2025)  # Reproducibility\n",
        "print('Libraries loaded.')\n"
      ]
    },
    {
      "cell_type": "markdown",
      "metadata": {},
      "source": [
        "---\n",
        "## 1) Discrete Distributions\n",
        "### 1.1 Binomial Distribution (Demo)\n",
        "Parameters: n = 10, p = 0.4. Compute $P(X=4)$, theoretical mean/variance, verify by simulation, and plot the PMF."
      ]
    },
    {
      "cell_type": "code",
      "execution_count": null,
      "metadata": {},
      "outputs": [],
      "source": [
        "n, p = 10, 0.4\n",
        "theory_p4 = stats.binom.pmf(4, n, p)\n",
        "theory_mean, theory_var = stats.binom.stats(n, p, moments='mv')\n",
        "\n",
        "sim = stats.binom.rvs(n, p, size=100_000)\n",
        "emp_p4 = np.mean(sim == 4)\n",
        "emp_mean, emp_var = np.mean(sim), np.var(sim, ddof=0)\n",
        "\n",
        "print('P(X=4): theory =', theory_p4, ' empirical =', emp_p4)\n",
        "print('Mean: theory =', theory_mean, ' empirical =', emp_mean)\n",
        "print('Variance: theory =', theory_var, ' empirical =', emp_var)\n",
        "\n",
        "x_vals = np.arange(0, n+1)\n",
        "markerline, stemlines, baseline = plt.stem(x_vals, stats.binom.pmf(x_vals, n, p), use_line_collection=True)\n",
        "plt.title('Binomial PMF (n=10, p=0.4)')\n",
        "plt.xlabel('x'); plt.ylabel('P(X=x)')\n",
        "plt.show()\n"
      ]
    },
    {
      "cell_type": "markdown",
      "metadata": {},
      "source": [
        "**Your Turn (Binomial):**\n",
        "- Change parameters to n = 8, p = 0.6.\n",
        "- Compute P(X=5) theoretical vs. simulation.\n",
        "- Compare theoretical mean/variance with simulated values.\n",
        "- Plot the PMF."
      ]
    },
    {
      "cell_type": "code",
      "execution_count": null,
      "metadata": {
        "tags": [
          "your-turn"
        ]
      },
      "outputs": [],
      "source": [
        "# TODO: Binomial \u2013 Your Turn\n",
        "n, p = 8, 0.6\n",
        "theory_p5 = stats.binom.pmf(5, n, p)\n",
        "sim = stats.binom.rvs(n, p, size=100_000)\n",
        "emp_p5 = np.mean(sim == 5)\n",
        "theory_mean, theory_var = stats.binom.stats(n, p, moments='mv')\n",
        "emp_mean, emp_var = sim.mean(), sim.var(ddof=0)\n",
        "print('P(X=5): theory =', theory_p5, ' empirical =', emp_p5)\n",
        "print('Mean: theory =', theory_mean, ' empirical =', emp_mean)\n",
        "print('Var: theory =', theory_var, ' empirical =', emp_var)\n",
        "x = np.arange(0, n+1)\n",
        "plt.stem(x, stats.binom.pmf(x, n, p), use_line_collection=True)\n",
        "plt.title('Binomial PMF (n=8, p=0.6)')\n",
        "plt.xlabel('x'); plt.ylabel('P(X=x)'); plt.show()\n"
      ]
    },
    {
      "cell_type": "markdown",
      "metadata": {},
      "source": [
        "### 1.2 Poisson Distribution (Demo)\n",
        "Parameter: \u03bb = 3. Compute $P(X \\ge 5)$ using the survival function and verify by simulation; plot the PMF."
      ]
    },
    {
      "cell_type": "code",
      "execution_count": null,
      "metadata": {},
      "outputs": [],
      "source": [
        "lam = 3\n",
        "theory_tail = stats.poisson.sf(4, lam)\n",
        "sim = stats.poisson.rvs(lam, size=100_000)\n",
        "emp_tail = np.mean(sim >= 5)\n",
        "print('P(X >= 5): theory =', theory_tail, ' empirical =', emp_tail)\n",
        "x_vals = np.arange(0, 12)\n",
        "plt.stem(x_vals, stats.poisson.pmf(x_vals, lam), use_line_collection=True)\n",
        "plt.title('Poisson PMF (\u03bb=3)')\n",
        "plt.xlabel('x'); plt.ylabel('P(X=x)'); plt.show()\n"
      ]
    },
    {
      "cell_type": "markdown",
      "metadata": {},
      "source": [
        "**Your Turn (Poisson):**\n",
        "- Set \u03bb = 4.\n",
        "- Compute P(X \u2264 2) theoretical vs. simulation.\n",
        "- Plot the PMF."
      ]
    },
    {
      "cell_type": "code",
      "execution_count": null,
      "metadata": {
        "tags": [
          "your-turn"
        ]
      },
      "outputs": [],
      "source": [
        "# TODO: Poisson \u2013 Your Turn\n",
        "lam = 4\n",
        "theory_p_le2 = stats.poisson.cdf(2, lam)\n",
        "sim = stats.poisson.rvs(lam, size=100_000)\n",
        "emp_p_le2 = np.mean(sim <= 2)\n",
        "print('P(X <= 2): theory =', theory_p_le2, ' empirical =', emp_p_le2)\n",
        "x = np.arange(0, 15)\n",
        "plt.stem(x, stats.poisson.pmf(x, lam), use_line_collection=True)\n",
        "plt.title('Poisson PMF (\u03bb=4)')\n",
        "plt.xlabel('x'); plt.ylabel('P(X=x)'); plt.show()\n"
      ]
    },
    {
      "cell_type": "markdown",
      "metadata": {},
      "source": [
        "### 1.3 Hypergeometric Distribution (Demo)\n",
        "Population size M = 20, defectives K = 8, draws N = 5. Compute $P(X=2)$; verify by simulation; plot PMF."
      ]
    },
    {
      "cell_type": "code",
      "execution_count": null,
      "metadata": {},
      "outputs": [],
      "source": [
        "M, K, N = 20, 8, 5\n",
        "theory_p2 = stats.hypergeom.pmf(2, M, K, N)\n",
        "sim = stats.hypergeom.rvs(M, K, N, size=100_000)\n",
        "emp_p2 = np.mean(sim == 2)\n",
        "print('P(X=2): theory =', theory_p2, ' empirical =', emp_p2)\n",
        "x = np.arange(0, N+1)\n",
        "plt.stem(x, stats.hypergeom.pmf(x, M, K, N), use_line_collection=True)\n",
        "plt.title('Hypergeometric PMF (M=20, K=8, N=5)')\n",
        "plt.xlabel('x'); plt.ylabel('P(X=x)'); plt.show()\n"
      ]
    },
    {
      "cell_type": "markdown",
      "metadata": {},
      "source": [
        "**Your Turn (Hypergeometric):**\n",
        "- Use M = 30, K = 12 defectives, N = 6 draws.\n",
        "- Compute P(X=3) theoretical vs. simulation.\n",
        "- Plot the PMF."
      ]
    },
    {
      "cell_type": "code",
      "execution_count": null,
      "metadata": {
        "tags": [
          "your-turn"
        ]
      },
      "outputs": [],
      "source": [
        "# TODO: Hypergeometric \u2013 Your Turn\n",
        "M, K, N = 30, 12, 6\n",
        "theory_p3 = stats.hypergeom.pmf(3, M, K, N)\n",
        "sim = stats.hypergeom.rvs(M, K, N, size=100_000)\n",
        "emp_p3 = np.mean(sim == 3)\n",
        "print('P(X=3): theory =', theory_p3, ' empirical =', emp_p3)\n",
        "x = np.arange(0, N+1)\n",
        "plt.stem(x, stats.hypergeom.pmf(x, M, K, N), use_line_collection=True)\n",
        "plt.title('Hypergeometric PMF (M=30, K=12, N=6)')\n",
        "plt.xlabel('x'); plt.ylabel('P(X=x)'); plt.show()\n"
      ]
    },
    {
      "cell_type": "markdown",
      "metadata": {},
      "source": [
        "### 1.4 Negative Binomial Distribution (Demo)\n",
        "Number of trials X needed to get r = 5 successes with p = 0.4. Compute P(X=8); verify by simulation; plot PMF.\n",
        "_Note:_ SciPy parameterization uses the number of failures (k) before achieving r successes. If X is the total trials, then k = X - r."
      ]
    },
    {
      "cell_type": "code",
      "execution_count": null,
      "metadata": {},
      "outputs": [],
      "source": [
        "r, p = 5, 0.4\n",
        "theory_p8 = stats.nbinom.pmf(8 - r, r, p)  # k = 8 - r failures before r successes\n",
        "sim = stats.nbinom.rvs(r, p, size=100_000)\n",
        "emp_p8 = np.mean(sim == (8 - r))\n",
        "print('P(X=8): theory =', theory_p8, ' empirical =', emp_p8)\n",
        "x_total = np.arange(r, r+10)\n",
        "plt.stem(x_total, stats.nbinom.pmf(x_total - r, r, p), use_line_collection=True)\n",
        "plt.title('Negative Binomial PMF (r=5, p=0.4)')\n",
        "plt.xlabel('Number of Trials (X)'); plt.ylabel('P(X=x)'); plt.show()\n"
      ]
    },
    {
      "cell_type": "markdown",
      "metadata": {},
      "source": [
        "**Your Turn (Negative Binomial):**\n",
        "- Set r = 4, p = 0.5.\n",
        "- Compute P(X = 7) theoretical vs. simulation.\n",
        "- Plot PMF.\n"
      ]
    },
    {
      "cell_type": "code",
      "execution_count": null,
      "metadata": {
        "tags": [
          "your-turn"
        ]
      },
      "outputs": [],
      "source": [
        "# TODO: Negative Binomial \u2013 Your Turn\n",
        "r, p = 4, 0.5\n",
        "x_target = 7\n",
        "theory_px = stats.nbinom.pmf(x_target - r, r, p)\n",
        "sim = stats.nbinom.rvs(r, p, size=100_000)\n",
        "emp_px = np.mean(sim == (x_target - r))\n",
        "print('P(X=7): theory =', theory_px, ' empirical =', emp_px)\n",
        "x_total = np.arange(r, r+12)\n",
        "plt.stem(x_total, stats.nbinom.pmf(x_total - r, r, p), use_line_collection=True)\n",
        "plt.title('Negative Binomial PMF (r=4, p=0.5)')\n",
        "plt.xlabel('Number of Trials (X)'); plt.ylabel('P(X=x)'); plt.show()\n"
      ]
    },
    {
      "cell_type": "markdown",
      "metadata": {},
      "source": [
        "---\n",
        "## 2) Continuous Distributions\n",
        "### 2.1 Normal Distribution (Demo)\n",
        "Parameters: \u03bc = 50, \u03c3 = 10. Compute $P(45 \\le X \\le 60)$; verify by simulation; plot the PDF."
      ]
    },
    {
      "cell_type": "code",
      "execution_count": null,
      "metadata": {},
      "outputs": [],
      "source": [
        "mu, sigma = 50, 10\n",
        "theory_p = stats.norm.cdf(60, mu, sigma) - stats.norm.cdf(45, mu, sigma)\n",
        "sim = stats.norm.rvs(mu, sigma, size=100_000)\n",
        "emp_p = np.mean((sim >= 45) & (sim <= 60))\n",
        "print('P(45<=X<=60): theory =', theory_p, ' empirical =', emp_p)\n",
        "x_vals = np.linspace(mu - 4*sigma, mu + 4*sigma, 300)\n",
        "plt.plot(x_vals, stats.norm.pdf(x_vals, mu, sigma))\n",
        "plt.title('Normal PDF (\u03bc=50, \u03c3=10)')\n",
        "plt.xlabel('x'); plt.ylabel('f(x)'); plt.show()\n"
      ]
    },
    {
      "cell_type": "markdown",
      "metadata": {},
      "source": [
        "**Your Turn (Normal):**\n",
        "- Set \u03bc = 100, \u03c3 = 15.\n",
        "- Compute P(90 \u2264 X \u2264 120) theoretical vs. simulation.\n",
        "- Plot the PDF."
      ]
    },
    {
      "cell_type": "code",
      "execution_count": null,
      "metadata": {
        "tags": [
          "your-turn"
        ]
      },
      "outputs": [],
      "source": [
        "# TODO: Normal \u2013 Your Turn\n",
        "mu, sigma = 100, 15\n",
        "theory_p = stats.norm.cdf(120, mu, sigma) - stats.norm.cdf(90, mu, sigma)\n",
        "sim = stats.norm.rvs(mu, sigma, size=100_000)\n",
        "emp_p = np.mean((sim >= 90) & (sim <= 120))\n",
        "print('P(90<=X<=120): theory =', theory_p, ' empirical =', emp_p)\n",
        "x_vals = np.linspace(mu - 4*sigma, mu + 4*sigma, 300)\n",
        "plt.plot(x_vals, stats.norm.pdf(x_vals, mu, sigma))\n",
        "plt.title('Normal PDF (\u03bc=100, \u03c3=15)')\n",
        "plt.xlabel('x'); plt.ylabel('f(x)'); plt.show()\n"
      ]
    },
    {
      "cell_type": "markdown",
      "metadata": {},
      "source": [
        "### 2.2 Exponential Distribution (Demo)\n",
        "Parameter: \u03bb = 0.2 (mean = 5). Compute $P(X>8)$; verify by simulation; plot the PDF."
      ]
    },
    {
      "cell_type": "code",
      "execution_count": null,
      "metadata": {},
      "outputs": [],
      "source": [
        "lam = 0.2\n",
        "theory_p = stats.expon.sf(8, scale=1/lam)\n",
        "sim = stats.expon.rvs(scale=1/lam, size=100_000)\n",
        "emp_p = np.mean(sim > 8)\n",
        "print('P(X>8): theory =', theory_p, ' empirical =', emp_p)\n",
        "x_vals = np.linspace(0, 30, 300)\n",
        "plt.plot(x_vals, stats.expon.pdf(x_vals, scale=1/lam))\n",
        "plt.title('Exponential PDF (\u03bb=0.2)')\n",
        "plt.xlabel('x'); plt.ylabel('f(x)'); plt.show()\n"
      ]
    },
    {
      "cell_type": "markdown",
      "metadata": {},
      "source": [
        "**Your Turn (Exponential):**\n",
        "- Set \u03bb = 0.5 (mean = 2).\n",
        "- Compute P(X < 3) theoretical vs. simulation.\n",
        "- Plot the PDF."
      ]
    },
    {
      "cell_type": "code",
      "execution_count": null,
      "metadata": {
        "tags": [
          "your-turn"
        ]
      },
      "outputs": [],
      "source": [
        "# TODO: Exponential \u2013 Your Turn\n",
        "lam = 0.5\n",
        "theory_p = stats.expon.cdf(3, scale=1/lam)\n",
        "sim = stats.expon.rvs(scale=1/lam, size=100_000)\n",
        "emp_p = np.mean(sim < 3)\n",
        "print('P(X<3): theory =', theory_p, ' empirical =', emp_p)\n",
        "x_vals = np.linspace(0, 20, 300)\n",
        "plt.plot(x_vals, stats.expon.pdf(x_vals, scale=1/lam))\n",
        "plt.title('Exponential PDF (\u03bb=0.5)')\n",
        "plt.xlabel('x'); plt.ylabel('f(x)'); plt.show()\n"
      ]
    },
    {
      "cell_type": "markdown",
      "metadata": {},
      "source": [
        "### 2.3 Uniform Distribution (Demo)\n",
        "Interval: [2, 10]. Compute $P(4 \\le X \\le 7)$; verify by simulation; plot the PDF."
      ]
    },
    {
      "cell_type": "code",
      "execution_count": null,
      "metadata": {},
      "outputs": [],
      "source": [
        "a, b = 2, 10\n",
        "theory_p = stats.uniform.cdf(7, a, b-a) - stats.uniform.cdf(4, a, b-a)\n",
        "sim = stats.uniform.rvs(loc=a, scale=b-a, size=100_000)\n",
        "emp_p = np.mean((sim >= 4) & (sim <= 7))\n",
        "print('P(4<=X<=7): theory =', theory_p, ' empirical =', emp_p)\n",
        "x_vals = np.linspace(a-1, b+1, 300)\n",
        "plt.plot(x_vals, stats.uniform.pdf(x_vals, a, b-a))\n",
        "plt.title('Uniform PDF [2, 10]')\n",
        "plt.xlabel('x'); plt.ylabel('f(x)'); plt.show()\n"
      ]
    },
    {
      "cell_type": "markdown",
      "metadata": {},
      "source": [
        "**Your Turn (Uniform):**\n",
        "- Set interval [5, 15].\n",
        "- Compute P(8 \u2264 X \u2264 12) theoretical vs. simulation.\n",
        "- Plot the PDF."
      ]
    },
    {
      "cell_type": "code",
      "execution_count": null,
      "metadata": {
        "tags": [
          "your-turn"
        ]
      },
      "outputs": [],
      "source": [
        "# TODO: Uniform \u2013 Your Turn\n",
        "a, b = 5, 15\n",
        "theory_p = stats.uniform.cdf(12, a, b-a) - stats.uniform.cdf(8, a, b-a)\n",
        "sim = stats.uniform.rvs(loc=a, scale=b-a, size=100_000)\n",
        "emp_p = np.mean((sim >= 8) & (sim <= 12))\n",
        "print('P(8<=X<=12): theory =', theory_p, ' empirical =', emp_p)\n",
        "x_vals = np.linspace(a-1, b+1, 300)\n",
        "plt.plot(x_vals, stats.uniform.pdf(x_vals, a, b-a))\n",
        "plt.title('Uniform PDF [5, 15]')\n",
        "plt.xlabel('x'); plt.ylabel('f(x)'); plt.show()\n"
      ]
    },
    {
      "cell_type": "markdown",
      "metadata": {},
      "source": [
        "---\n",
        "## Deliverables\n",
        "1. Code cells and outputs for **both** the Demo and Your Turn tasks per distribution.\n",
        "2. A small table (can be typed in a markdown cell) that compares theoretical vs. empirical probabilities for each case.\n",
        "3. Short reflection (2\u20134 sentences): Which distribution felt most intuitive after simulation? Why?\n"
      ]
    },
    {
      "cell_type": "markdown",
      "metadata": {},
      "source": [
        "## Guide Questions (Answer concisely)\n",
        "1. In the **Binomial** demo, when you changed parameters to n=8, p=0.6, how did the PMF's shape shift compared to n=10, p=0.4? Relate this to the mean np and variance np(1-p).\n",
        "2. For **Poisson**, compare the tail probabilities P(X\u22655) at \u03bb=3 and the cumulative P(X\u22642) at \u03bb=4. How does \u03bb influence the skewness and spread?\n",
        "3. In **Hypergeometric**, explain how changing (M, K, N) affects the support and probabilities versus the Binomial with p = K/M. Why do these models differ conceptually?\n",
        "4. For **Negative Binomial**, clarify the meaning of X in this notebook (total trials to achieve r successes). How does increasing r (holding p fixed) affect the PMF?\n",
        "5. In the **Normal** tasks, discuss the empirical vs. theoretical probability differences. What role does the choice of interval (e.g., \u00b11\u03c3, \u00b12\u03c3) play?\n",
        "6. For the **Exponential**, interpret the \u201cmemoryless\u201d property using your simulation results. How would this differ from the Normal or Uniform distributions?\n",
        "7. For the **Uniform**, why is the PDF constant and how is this reflected in the probabilities you computed? If the interval length doubles, what happens to P(a \u2264 X \u2264 b) for a fixed-length sub-interval?\n",
        "8. Across all distributions, when do you expect the empirical estimates to deviate more from theory? Comment on the role of the number of simulations and the event's probability (very small/large).\n"
      ]
    }
  ],
  "metadata": {
    "kernelspec": {
      "display_name": "Python 3",
      "language": "python",
      "name": "python3"
    },
    "language_info": {
      "name": "python",
      "pygments_lexer": "ipython3"
    }
  },
  "nbformat": 4,
  "nbformat_minor": 5
}