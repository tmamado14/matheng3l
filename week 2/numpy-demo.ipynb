{
 "cells": [
  {
   "cell_type": "markdown",
   "id": "12f62470",
   "metadata": {},
   "source": [
    "# NumPy Fundamentals Programming Demonstration\n",
    "\n",
    "Welcome! This notebook is a hands-on demonstration of the core features of the NumPy library. \n",
    "\n",
    "`NumPy`, which stands for **Numerical Python**, is the fundamental package for scientific computing in Python. It provides a high-performance multidimensional array object and tools for working with these arrays.\n",
    "\n",
    "Let's start by importing NumPy. The standard convention is to import it with the alias `np`."
   ]
  },
  {
   "cell_type": "code",
   "execution_count": null,
   "id": "def76c3c",
   "metadata": {},
   "outputs": [],
   "source": [
    "import numpy as np\n",
    "np.set_printoptions(precision=4, suppress=True) #sets output to be rounded off into 4 decimal places"
   ]
  },
  {
   "cell_type": "markdown",
   "id": "2fb7437c",
   "metadata": {},
   "source": [
    "## 1. Creating NumPy Arrays\n",
    "\n",
    "The primary object in NumPy is the N-dimensional array, or `ndarray`. Let's explore the various ways to create them.\n",
    "\n",
    "### From a Python List\n",
    "You can create a NumPy array directly from a Python list or a list of lists."
   ]
  },
  {
   "cell_type": "code",
   "execution_count": null,
   "id": "dd69bd13",
   "metadata": {},
   "outputs": [],
   "source": [
    "# Create a 1D array from a list\n",
    "a = np.array([1, 2, 3])\n",
    "print(\"1D Array 'a':\")\n",
    "print(a)"
   ]
  },
  {
   "cell_type": "code",
   "execution_count": null,
   "id": "271b1239",
   "metadata": {},
   "outputs": [],
   "source": [
    "# Create a 2D array from a list of lists\n",
    "# We'll also specify the data type as float\n",
    "b = np.array([(1.5, 2, 3), (4, 5, 6)], dtype=float)\n",
    "print(\"2D Array 'b':\")\n",
    "print(b)"
   ]
  },
  {
   "cell_type": "markdown",
   "id": "b6fed571",
   "metadata": {},
   "source": [
    "### Using Initial Placeholders\n",
    "\n",
    "Often, you need to create an array of a specific size without knowing the final values. NumPy provides several functions to create \"placeholder\" arrays.\n",
    "\n",
    "* `np.zeros()`: Creates an array filled with zeros.\n",
    "* `np.ones()`: Creates an array filled with ones.\n",
    "* `np.full()`: Creates a constant array with a specified value.\n",
    "* `np.eye()`: Creates a 2x2 identity matrix.\n",
    "* `np.random.random()`: Creates an array with random values between 0 and 1.\n",
    "* `np.empty()`: Creates an empty array. The initial content is random and depends on the state of the memory."
   ]
  },
  {
   "cell_type": "code",
   "execution_count": null,
   "id": "6aabc860",
   "metadata": {},
   "outputs": [],
   "source": [
    "# Create an array of zeros\n",
    "zeros_array = np.zeros((3, 4))\n",
    "print(\"Zeros Array (3x4):\\n\", zeros_array)"
   ]
  },
  {
   "cell_type": "code",
   "execution_count": null,
   "id": "1a4f77e9",
   "metadata": {},
   "outputs": [],
   "source": [
    "# Create an array of ones with a specific data type\n",
    "ones_array = np.ones((2, 3, 4), dtype=np.int16)\n",
    "print(\"Ones Array (2x3x4 of int16):\\n\", ones_array)"
   ]
  },
  {
   "cell_type": "code",
   "execution_count": null,
   "id": "c6a84291",
   "metadata": {},
   "outputs": [],
   "source": [
    "# Create a constant array\n",
    "full_array = np.full((2, 2), 7)\n",
    "print(\"Full Array (2x2 with value 7):\\n\", full_array)"
   ]
  },
  {
   "cell_type": "code",
   "execution_count": null,
   "id": "99b1bc27",
   "metadata": {},
   "outputs": [],
   "source": [
    "# Create an identity matrix\n",
    "identity_matrix = np.eye(3)\n",
    "print(\"Identity Matrix (3x3):\\n\", identity_matrix)"
   ]
  },
  {
   "cell_type": "code",
   "execution_count": null,
   "id": "73e2d2c1",
   "metadata": {},
   "outputs": [],
   "source": [
    "# Create a 2x3 random array\n",
    "# np.random.seed(14)\n",
    "random_array = np.random.random((2, 3))\n",
    "print(random_array)"
   ]
  },
  {
   "cell_type": "code",
   "execution_count": null,
   "id": "e1d90426",
   "metadata": {},
   "outputs": [],
   "source": [
    "# Create an empty array\n",
    "empty_array = np.empty((2,3))\n",
    "print(empty_array)"
   ]
  },
  {
   "cell_type": "markdown",
   "id": "44ae2d58",
   "metadata": {},
   "source": [
    "### Creating Sequences\n",
    "\n",
    "You can also generate arrays with evenly spaced values.\n",
    "\n",
    "* `np.arange(start, stop, step)`: Creates an array of evenly spaced values where the interval is defined by a step value.\n",
    "* `np.linspace(start, stop, num)`: Creates an array of evenly spaced values where the number of samples is specified."
   ]
  },
  {
   "cell_type": "code",
   "execution_count": null,
   "id": "10784b3d",
   "metadata": {},
   "outputs": [],
   "source": [
    "# Create an array of evenly spaced values based on step size\n",
    "d = np.arange(10, 25, 5)\n",
    "print(\"Array 'd' created with np.arange(10, 25, 5):\")\n",
    "print(d)"
   ]
  },
  {
   "cell_type": "code",
   "execution_count": null,
   "id": "b388e0e1",
   "metadata": {},
   "outputs": [],
   "source": [
    "# Create an array of evenly spaced values based on number of samples\n",
    "e = np.linspace(0, 2, 9)\n",
    "print(\"Array 'e' created with np.linspace(0, 2, 9):\")\n",
    "print(e)"
   ]
  },
  {
   "cell_type": "markdown",
   "id": "a9290a0e",
   "metadata": {},
   "source": [
    "## 🎯 Challenge 1: Creating NumPy Arrays\n",
    "\n",
    "### **Objective**\n",
    "Create a variety of NumPy arrays using the functions learned in Section 1. This will test your ability to generate arrays with specific sequences, shapes, and values.\n",
    "\n",
    "### **Your Task**\n",
    "Write the Python code to create the following five NumPy arrays:\n",
    "\n",
    "1.  **`id_matrix`**: An identity matrix of size 5x5.\n",
    "2.  **`even_numbers`**: A 1D array containing all even numbers from 2 to 50 (inclusive).\n",
    "3.  **`ten_points`**: A 1D array of 10 evenly spaced points starting from 0 and ending at 1.\n",
    "4.  **`random_floats`**: A 3x4 array filled with random floating-point numbers.\n",
    "5.  **`constant_array`**: A 4x3 array where every element is the number `99`.\n",
    "\n",
    "<br>\n",
    "\n",
    "<details>\n",
    "  <summary>Click here for a hint</summary>\n",
    "  <p>Remember to use `np.eye()`, `np.arange()`, `np.linspace()`, `np.random.random()`, and `np.full()`.</p>\n",
    "</details>"
   ]
  },
  {
   "cell_type": "code",
   "execution_count": null,
   "id": "2d79bedd",
   "metadata": {},
   "outputs": [],
   "source": [
    "#Answer goes here"
   ]
  },
  {
   "cell_type": "markdown",
   "id": "ef3bb303",
   "metadata": {},
   "source": [
    "## 2. Inspecting Your Array\n",
    "\n",
    "Once you have an array, you'll want to know its properties. NumPy makes it easy to inspect its dimensions, data type, and size.\n",
    "\n",
    "* `a.shape`: Dimensions of the array (rows, columns).\n",
    "* `len(a)`: Length of the array.\n",
    "* `b.ndim`: Number of array dimensions.\n",
    "* `e.size`: Total number of elements in the array.\n",
    "* `b.dtype`: Data type of the array's elements.\n",
    "* `b.astype(int)`: Convert an array to a different data type."
   ]
  },
  {
   "cell_type": "code",
   "execution_count": null,
   "id": "193a5226",
   "metadata": {},
   "outputs": [],
   "source": [
    "# Let's inspect our 2D array 'b'\n",
    "print(\"Array 'b':\\n\", b)"
   ]
  },
  {
   "cell_type": "code",
   "execution_count": null,
   "id": "48b6eabc",
   "metadata": {},
   "outputs": [],
   "source": [
    "# Get the dimensions of the array\n",
    "print(\"Shape of b:\", b.shape)"
   ]
  },
  {
   "cell_type": "code",
   "execution_count": null,
   "id": "62f7396e",
   "metadata": {},
   "outputs": [],
   "source": [
    "# Get the number of dimensions\n",
    "print(\"Number of dimensions of b:\", b.ndim)"
   ]
  },
  {
   "cell_type": "code",
   "execution_count": null,
   "id": "07734e76",
   "metadata": {},
   "outputs": [],
   "source": [
    "# Get the total number of elements\n",
    "print(\"Size of b:\", b.size)"
   ]
  },
  {
   "cell_type": "code",
   "execution_count": null,
   "id": "e1e07737",
   "metadata": {},
   "outputs": [],
   "source": [
    "# Get the data type of elements\n",
    "print(\"Data type of b:\", b.dtype)"
   ]
  },
  {
   "cell_type": "code",
   "execution_count": null,
   "id": "6669410c",
   "metadata": {},
   "outputs": [],
   "source": [
    "# We can also convert its type\n",
    "b_int = b.astype(int)\n",
    "print(\"Array 'b' converted to int:\\n\", b_int)\n",
    "print(\"New data type:\", b_int.dtype)"
   ]
  },
  {
   "cell_type": "markdown",
   "id": "abfd6af1",
   "metadata": {},
   "source": [
    "## 🎯 Challenge 2: Inspecting Your Array\n",
    "\n",
    "### **Objective**\n",
    "Given a pre-made NumPy array, use inspection functions to understand its properties and modify its data type.\n",
    "\n",
    "### **Your Task**\n",
    "Use the `mystery_array` provided in the code cell below to answer the following questions by writing code:\n",
    "\n",
    "1.  How many dimensions does `mystery_array` have?\n",
    "2.  What is the shape of `mystery_array`?\n",
    "3.  How many total elements are in `mystery_array`?\n",
    "4.  What is the data type of the elements in `mystery_array`?\n",
    "5.  Create a new array called `mystery_int_array` that contains the same values as `mystery_array` but with the data type converted to `int32`. Print the `dtype` of this new array to confirm the change.\n",
    "\n",
    "<br>\n",
    "\n",
    "<details>\n",
    "  <summary>Click here for a hint</summary>\n",
    "  <p>You'll need to use the attributes `.ndim`, `.shape`, `.size`, and `.dtype`, as well as the method `.astype()`.</p>\n",
    "</details>"
   ]
  },
  {
   "cell_type": "code",
   "execution_count": null,
   "id": "827ffbf2",
   "metadata": {},
   "outputs": [],
   "source": [
    "# Load the mystery_array\n",
    "mystery_array = np.load(\"mystery_array.npy\")\n",
    "\n",
    "#Answer goes here"
   ]
  },
  {
   "cell_type": "markdown",
   "id": "ec69f32b",
   "metadata": {},
   "source": [
    "## 3. Subsetting\n",
    "One of the most powerful features of NumPy, subsetting refers to selecting a part of an array. This includes indexing, slicing, boolean indexing, and fancy indexing.\n",
    "\n",
    "* **Indexing**: Accessing single elements using their index.\n",
    "* **Slicing**: Accessing a range of elements.\n",
    "* **Boolean Indexing**: Filtering elements based on a condition.\n",
    "* **Fancy Indexing**: Using an array of indices to access elements."
   ]
  },
  {
   "cell_type": "code",
   "execution_count": null,
   "id": "93daa008",
   "metadata": {},
   "outputs": [],
   "source": [
    "# Let's redefine 'a' and 'b' for clarity\n",
    "a = np.array([1, 2, 3, 4, 5, 6])\n",
    "b = np.array([[1.5, 2, 3], [4, 5, 6]])\n",
    "print('Array a: \\n', a)\n",
    "print('Array b: \\n', b)"
   ]
  },
  {
   "cell_type": "code",
   "execution_count": null,
   "id": "fa5f974c",
   "metadata": {},
   "outputs": [],
   "source": [
    "# --- Indexing ---\n",
    "# Select the element at the 2nd index of 'a'\n",
    "print(\"a[2]:\", a[2])\n",
    "\n",
    "# Select the element at row 1, column 2 of 'b'\n",
    "print(\"b[1, 2]:\", b[1, 2])"
   ]
  },
  {
   "cell_type": "code",
   "execution_count": null,
   "id": "6548ea8e",
   "metadata": {},
   "outputs": [],
   "source": [
    "# --- Slicing ---\n",
    "# Select items at index 0 and 1 from 'a'\n",
    "print(\"a[0:2]:\", a[0:2])\n",
    "\n",
    "# Select items at rows 0 and 1 in column 1 of 'b'\n",
    "print(\"b[0:2, 1]:\", b[0:2, 1])\n",
    "\n",
    "# Select all items at row 0 of 'b'\n",
    "print(\"b[:1]:\", b[:1])\n",
    "\n",
    "# Reverse array 'a'\n",
    "print(\"a reversed:\", a[::-1])"
   ]
  },
  {
   "cell_type": "code",
   "execution_count": null,
   "id": "1cb5908a",
   "metadata": {},
   "outputs": [],
   "source": [
    "# --- Boolean Indexing ---\n",
    "# Select elements from 'a' that are less than 3\n",
    "print(\"Elements in 'a' less than 3:\", a[a < 3])"
   ]
  },
  {
   "cell_type": "code",
   "execution_count": null,
   "id": "b12dd014",
   "metadata": {},
   "outputs": [],
   "source": [
    "# --- Fancy Indexing ---\n",
    "# Select elements (1,0), (0,1), (1,2) and (0,0) from 'b'\n",
    "print(\"Fancy indexing on 'b':\", b[[1, 0, 1, 0], [0, 1, 2, 0]])"
   ]
  },
  {
   "cell_type": "markdown",
   "id": "3d26c2b1",
   "metadata": {},
   "source": [
    "## 🎯 Challenge 3: Subsetting\n",
    "\n",
    "### **Objective**\n",
    "Extract specific pieces of data from a larger dataset using various indexing techniques.\n",
    "\n",
    "### **Your Task**\n",
    "You are given a dataset of sensor readings. The columns are `[Sensor ID, Temperature, Humidity, Pressure]`. Use the `sensor_data` array provided in the code cell below to perform the following data extractions:\n",
    "\n",
    "1.  **Select a single value**: Get the **Humidity** of the 4th sensor.\n",
    "2.  **Slice rows**: Get all data for the **first three sensors**.\n",
    "3.  **Slice columns**: Get the **Temperature** and **Humidity** for all sensors.\n",
    "4.  **Boolean indexing**: Get all data for sensors where the **Temperature is above 25**.\n",
    "5.  **Fancy indexing**: Get the **Pressure** reading for sensor 1, 4, and 5.\n",
    "<br>\n",
    "\n",
    "<details>\n",
    "  <summary>Click here for a hint</summary>\n",
    "  <p>For slicing columns, you can use `sensor_data[:, 1:3]`. For boolean indexing, create a condition like `sensor_data[:, 1] > 25`. For fancy indexing, you'll need two sets of indices: one for the rows and one for the column.</p>\n",
    "</details>"
   ]
  },
  {
   "cell_type": "code",
   "execution_count": null,
   "id": "2ebfaec0",
   "metadata": {},
   "outputs": [],
   "source": [
    "#Sensor Data\n",
    "#Columns: [Sensor ID, Temperature, Humidity, Pressure]\n",
    "\n",
    "sensor_data = np.array([\n",
    "    [1, 22.5, 45, 1012],   # Sensor 1\n",
    "    [2, 24.0, 50, 1010],   # Sensor 2\n",
    "    [3, 26.5, 55, 1008],   # Sensor 3\n",
    "    [4, 28.0, 60, 1005],   # Sensor 4\n",
    "    [5, 23.5, 48, 1011],   # Sensor 5\n",
    "    [6, 27.2, 52, 1007]    # Sensor 6\n",
    "])\n",
    "\n",
    "# Code goes here"
   ]
  },
  {
   "cell_type": "markdown",
   "id": "eba7b51a",
   "metadata": {},
   "source": [
    "## 4. Array Mathematics\n",
    "\n",
    "NumPy allows you to perform element-wise mathematical operations on arrays.\n",
    "\n",
    "### Arithmetic Operations\n",
    "You can use standard arithmetic operators (`+`, `-`, `*`, `/`) directly on arrays."
   ]
  },
  {
   "cell_type": "code",
   "execution_count": null,
   "id": "7939c56e",
   "metadata": {},
   "outputs": [],
   "source": [
    "# Create two arrays of the same shape\n",
    "x = np.array([[1, 2], [3, 4]])\n",
    "y = np.array([[5, 6], [7, 8]])\n",
    "\n",
    "# Addition\n",
    "print(\"Addition (x + y):\\n\", x + y)\n",
    "\n",
    "# Or use the function np.add(x, y): \n",
    "print(\"\\nAddition (x + y):\\n\", np.add(x, y))"
   ]
  },
  {
   "cell_type": "code",
   "execution_count": null,
   "id": "50d07db5",
   "metadata": {},
   "outputs": [],
   "source": [
    "# Subtraction\n",
    "print(\"Subtraction (x - y):\\n\", x - y)\n",
    "\n",
    "# Or use the function: np.subtract(x, y)"
   ]
  },
  {
   "cell_type": "code",
   "execution_count": null,
   "id": "d24cadab",
   "metadata": {},
   "outputs": [],
   "source": [
    "# Multiplication\n",
    "print(\"Element-wise Multiplication (x * y):\\n\", x * y)\n",
    "\n",
    "# Or use the function: np.multiply(x, y)"
   ]
  },
  {
   "cell_type": "code",
   "execution_count": null,
   "id": "d1c6f7e1",
   "metadata": {},
   "outputs": [],
   "source": [
    "# Division\n",
    "print(\"Division (x / y):\\n\", x / y)\n",
    "\n",
    "# Or use the function: np.divide(x, y)"
   ]
  },
  {
   "cell_type": "markdown",
   "id": "0af63799",
   "metadata": {},
   "source": [
    "### Other Important Functions\n",
    "\n",
    "NumPy also includes a wide range of universal functions (`ufuncs`) that operate element-wise.\n",
    "\n",
    "* `np.exp(x)`: Exponential.\n",
    "* `np.sqrt(x)`: Square root.\n",
    "* `np.sin(x)`: Sine of elements.\n",
    "* `np.log(x)`: Natural logarithm.\n",
    "* `np.matmul(x,y)`: For 1D arrays: Performs dot product; For 2D arrays: Performs matrix multiplication."
   ]
  },
  {
   "cell_type": "code",
   "execution_count": null,
   "id": "ceef486e",
   "metadata": {},
   "outputs": [],
   "source": [
    "x = np.array([[1, 2], [3, 4]])\n",
    "y = np.array([[5, 6], [7, 8]])\n",
    "print(\"x = \\n\", x)\n",
    "print(\"y = \\n\", y)\n",
    "# Square root\n",
    "print(\"\\nSquare root of x:\\n\", np.sqrt(x))\n",
    "\n",
    "\n",
    "# Sine function\n",
    "print(\"\\nSine of x:\\n\", np.sin(x))\n",
    "\n",
    "# Matrix multiplication\n",
    "print(\"\\nMatrix multiplication of x and y:\\n\", np.matmul(x,y))"
   ]
  },
  {
   "cell_type": "markdown",
   "id": "53becfb0",
   "metadata": {},
   "source": [
    "## 🎯 Challenge 4: Array Mathematics\n",
    "\n",
    "### **Objective**\n",
    "Perform mathematical operations to transform and analyze data stored in arrays.\n",
    "\n",
    "### **Your Task**\n",
    "You have two arrays representing the morning and evening temperatures (in Celsius) for a week.\n",
    "\n",
    "1.  Calculate the **daily temperature range** (the difference between the evening and morning temperature) for each day.\n",
    "2.  Calculate the **average temperature** for each day.\n",
    "3.  Convert the `evening_temps` array from **Celsius to Fahrenheit**. The formula is `F = C * 9/5 + 32`.\n",
    "\n",
    "<br>\n",
    "\n",
    "<details>\n",
    "  <summary>Click here for a hint</summary>\n",
    "  <p>Standard arithmetic operators (`-`, `+`, `/`, `*`) work element-wise on NumPy arrays.</p>\n",
    "</details>"
   ]
  },
  {
   "cell_type": "code",
   "execution_count": null,
   "id": "98b62978",
   "metadata": {},
   "outputs": [],
   "source": [
    "# Temperatures in Celsius for one week\n",
    "morning_temps = np.array([12.5, 13.0, 14.5, 12.0, 11.5, 13.5, 15.0])\n",
    "evening_temps = np.array([22.0, 23.5, 25.0, 21.5, 20.0, 24.5, 26.0])\n",
    "\n",
    "# Your code goes here"
   ]
  },
  {
   "cell_type": "markdown",
   "id": "8a54f4d6",
   "metadata": {},
   "source": [
    "## 5. Aggregate Functions\n",
    "\n",
    "These functions perform a calculation on an entire array or on a specific axis.\n",
    "\n",
    "* `a.sum()`: Sum of all elements.\n",
    "* `b.min()`: Minimum value in the array.\n",
    "* `b.max()`: Maximum value in the array.\n",
    "* `b.cumsum()`: Cumulative sum.\n",
    "* `a.mean()`: Mean of the elements.\n",
    "* `np.std(b)`: Standard deviation."
   ]
  },
  {
   "cell_type": "code",
   "execution_count": null,
   "id": "2ad958fd",
   "metadata": {},
   "outputs": [],
   "source": [
    "a = np.array([1, 2, 3, 4, 5])\n",
    "b = np.array([[1, 6], [3, 7]])\n",
    "print(\"Array 'a':\", a)\n",
    "print(\"Array 'b':\\n\", b)"
   ]
  },
  {
   "cell_type": "code",
   "execution_count": null,
   "id": "4b2906de",
   "metadata": {},
   "outputs": [],
   "source": [
    "# Sum of all elements\n",
    "print(\"Sum of a:\", a.sum())\n",
    "\n",
    "# Sum over rows\n",
    "print(\"Sum of b down columns\", b.sum(axis = 0))\n",
    "\n",
    "# Sum over columns\n",
    "print(\"Sum of b across rows\", b.sum(axis = 1))"
   ]
  },
  {
   "cell_type": "code",
   "execution_count": null,
   "id": "4b7353a4",
   "metadata": {},
   "outputs": [],
   "source": [
    "print(\"Array 'b':\\n\", b)\n",
    "\n",
    "# Minimum value of b\n",
    "print(\"\\nMinimum of b:\", b.min())\n",
    "\n",
    "# Minimum of each column\n",
    "print(\"Minimum of each column\", b.min(axis = 0))\n",
    "\n",
    "# Minimum of each row\n",
    "print(\"Minimum of each row\", b.min(axis = 1))"
   ]
  },
  {
   "cell_type": "code",
   "execution_count": null,
   "id": "2f4f4bc5",
   "metadata": {},
   "outputs": [],
   "source": [
    "print(\"Array 'b':\\n\", b)\n",
    "\n",
    "# Maximum value of b\n",
    "print(\"\\nMaximum of b:\", b.max())\n",
    "\n",
    "# Maximum of each column\n",
    "print(\"Maximum of each column\", b.max(axis = 0))\n",
    "\n",
    "# Maximum of each row\n",
    "print(\"Maximum of each row\", b.max(axis = 1))"
   ]
  },
  {
   "cell_type": "code",
   "execution_count": null,
   "id": "5ee42448",
   "metadata": {},
   "outputs": [],
   "source": [
    "print(\"Array 'a':\", a)\n",
    "\n",
    "# Cumulative sum of a\n",
    "print(\"\\nCumulative sum of a:\\n\", a.cumsum())"
   ]
  },
  {
   "cell_type": "code",
   "execution_count": null,
   "id": "f0606f7c",
   "metadata": {},
   "outputs": [],
   "source": [
    "# Mean of a\n",
    "print(\"Mean of a:\", a.mean())\n",
    "\n",
    "# Standard deviation of b\n",
    "print(\"Standard deviation of b:\", np.std(b))"
   ]
  },
  {
   "cell_type": "markdown",
   "id": "e0b2b2d0",
   "metadata": {},
   "source": [
    "## 🎯 Challenge 5: Aggregate Functions\n",
    "\n",
    "### **Objective**\n",
    "Use aggregate functions to compute summary statistics from a dataset.\n",
    "\n",
    "### **Your Task**\n",
    "You have an array representing the number of units sold for 3 different products over 4 weeks.\n",
    "\n",
    "1.  What was the **total number of units sold** for all products across all weeks?\n",
    "2.  What were the **total sales for each product** (summing across the weeks)?\n",
    "3.  What was the **average number of units sold each week** (averaging across the products)?\n",
    "4.  Which week had the **highest total sales**?\n",
    "\n",
    "<br>\n",
    "\n",
    "<details>\n",
    "  <summary>Click here for a hint</summary>\n",
    "  <p>Use `.sum()`, `.mean()`, and `.max()`. Remember the `axis` parameter is key! `axis=1` aggregates across columns (for each product), and `axis=0` aggregates down rows (for each week).</p>\n",
    "</details>"
   ]
  },
  {
   "cell_type": "code",
   "execution_count": null,
   "id": "9191cfcb",
   "metadata": {},
   "outputs": [],
   "source": [
    "# Rows are products, columns are weeks\n",
    "# [Week1, Week2, Week3, Week4]\n",
    "sales_data = np.array([\n",
    "    [150, 200, 250, 220],  # Product A\n",
    "    [180, 210, 240, 190],  # Product B\n",
    "    [120, 160, 200, 170]   # Product C\n",
    "])\n",
    "\n",
    "# Your code goes here..."
   ]
  },
  {
   "cell_type": "markdown",
   "id": "30ce9074",
   "metadata": {},
   "source": [
    "## 6. Array Manipulation\n",
    "\n",
    "Finally, let's look at how to change the shape and order of your arrays.\n",
    "\n",
    "### Reshaping & Transposing\n",
    "* `b.T` or `np.transpose(b)`: Permute the dimensions of an array (swap rows and columns).\n",
    "* `b.ravel()`: Flattens the array into a single dimension.\n",
    "\n",
    "### Combining & Splitting\n",
    "* `np.concatenate()`: Join a sequence of arrays along an existing axis.\n",
    "* `np.vstack()` or `np.row_stack`: Stack arrays in sequence vertically (row-wise).\n",
    "* `np.hstack()` or `np.column_stack`: Stack arrays in sequence horizontally (column-wise).\n",
    "* `np.hsplit()`: Split an array horizontally."
   ]
  },
  {
   "cell_type": "code",
   "execution_count": null,
   "id": "34e1d31f",
   "metadata": {},
   "outputs": [],
   "source": [
    "b = np.array([[1.5, 2, 3], [4, 5, 6]])\n",
    "print(\"Array 'b':\\n\", b)"
   ]
  },
  {
   "cell_type": "code",
   "execution_count": null,
   "id": "4f4c459f",
   "metadata": {},
   "outputs": [],
   "source": [
    "# Transpose array b\n",
    "print(\"Transposed 'b':\\n\", b.T)"
   ]
  },
  {
   "cell_type": "code",
   "execution_count": null,
   "id": "6619ca05",
   "metadata": {},
   "outputs": [],
   "source": [
    "# Flatten array b\n",
    "print(\"Ravel 'b':\", b.ravel())"
   ]
  },
  {
   "cell_type": "code",
   "execution_count": null,
   "id": "17c382c5",
   "metadata": {},
   "outputs": [],
   "source": [
    "a = np.array([1, 2, 3])\n",
    "d = np.array([10, 15, 20])\n",
    "\n",
    "print(\"Array a:\\n\", a)\n",
    "print(\"\\nArray d:\\n\", d)\n",
    "\n",
    "# Concatenate a and d\n",
    "print(\"\\nConcatenate 'a' and 'd':\", np.concatenate((a, d)))"
   ]
  },
  {
   "cell_type": "code",
   "execution_count": null,
   "id": "24b38593",
   "metadata": {},
   "outputs": [],
   "source": [
    "# Stack a and d vertically\n",
    "print(\"Vertical Stack (vstack):\\n\", np.vstack((a, d)))"
   ]
  },
  {
   "cell_type": "code",
   "execution_count": null,
   "id": "7c9dabfe",
   "metadata": {},
   "outputs": [],
   "source": [
    "# Stack a and d horizontally\n",
    "print(\"Horizontal Stack (column_stack):\\n\", np.column_stack((a, d)))"
   ]
  },
  {
   "cell_type": "code",
   "execution_count": null,
   "id": "a279f555",
   "metadata": {},
   "outputs": [],
   "source": [
    "# Reshape an array\n",
    "x = np.array([1, 2, 3, 4, 5, 6])\n",
    "print(\"Original array 'x':\\n\", x)\n",
    "\n",
    "print(\"\\nReshaped array 'x':\\n\", x.reshape(3,2))"
   ]
  },
  {
   "cell_type": "code",
   "execution_count": null,
   "id": "e557971c",
   "metadata": {},
   "outputs": [],
   "source": [
    "#Split arrays horizontally\n",
    "h_split = np.hsplit(x, 3)\n",
    "print(\"Horizontally split 'x':\\n\", h_split)"
   ]
  },
  {
   "cell_type": "code",
   "execution_count": null,
   "id": "f55c4d1c",
   "metadata": {},
   "outputs": [],
   "source": [
    "#Split arrays vertically\n",
    "v_split = np.vsplit(x.reshape(3,2), 3)\n",
    "print(\"Vertically split 'reshaped x':\\n\", v_split)"
   ]
  },
  {
   "cell_type": "markdown",
   "id": "18dd7957",
   "metadata": {},
   "source": [
    "## 🎯 Challenge 6: Array Manipulation\n",
    "\n",
    "### **Objective**\n",
    "Combine, split, and reshape arrays to organize data effectively.\n",
    "\n",
    "### **Your Task**\n",
    "You are given three separate 1D arrays for `product_ids`, `prices`, and `inventory_counts`.\n",
    "\n",
    "1.  **Combine**: Create a single 2D array called `product_data` where the first column is `product_ids`, the second is `prices`, and the third is `inventory_counts`.\n",
    "2.  **Add new data**: You receive data for a new product. Create a new 1D array for it and add it as a new row to the `product_data` array.\n",
    "3.  **Reshape**: Your inventory system requires the data in a different shape. Reshape the final `product_data` array so that it has 6 rows and 2 columns.\n",
    "\n",
    "<br>\n",
    "\n",
    "<details>\n",
    "  <summary>Click here for a hint</summary>\n",
    "  <p>For step 1, `np.column_stack()` is perfect. For step 2, consider `np.vstack()`. For step 3, use the `.reshape()` method.</p>\n",
    "</details>"
   ]
  },
  {
   "cell_type": "code",
   "execution_count": null,
   "id": "5290ef1b",
   "metadata": {},
   "outputs": [],
   "source": [
    "product_ids = np.array([101, 102, 103, 104])\n",
    "prices = np.array([19.99, 49.50, 99.99, 14.50])\n",
    "inventory_counts = np.array([250, 175, 50, 400])\n",
    "\n",
    "# Data for the new product\n",
    "new_product = np.array([105, 24.99, 300])\n",
    "\n",
    "# Your code goes here..."
   ]
  },
  {
   "cell_type": "markdown",
   "id": "366fb413",
   "metadata": {},
   "source": [
    "## Conclusion\n",
    "\n",
    "This concludes our basic tour of NumPy! We've covered:\n",
    "- Creating arrays from lists, placeholders, and sequences.\n",
    "- Inspecting array properties like shape, size, and data type.\n",
    "- Powerful slicing and indexing techniques.\n",
    "- Performing mathematical and aggregate operations.\n",
    "- Manipulating arrays by reshaping, combining, and splitting them.\n",
    "\n",
    "NumPy is the bedrock of the scientific Python ecosystem. Mastering these operations is the first step toward effective data analysis and machine learning."
   ]
  }
 ],
 "metadata": {
  "kernelspec": {
   "display_name": ".venv",
   "language": "python",
   "name": "python3"
  },
  "language_info": {
   "codemirror_mode": {
    "name": "ipython",
    "version": 3
   },
   "file_extension": ".py",
   "mimetype": "text/x-python",
   "name": "python",
   "nbconvert_exporter": "python",
   "pygments_lexer": "ipython3",
   "version": "3.13.7"
  }
 },
 "nbformat": 4,
 "nbformat_minor": 5
}
